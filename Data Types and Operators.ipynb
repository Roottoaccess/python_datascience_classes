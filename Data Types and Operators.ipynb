{
 "cells": [
  {
   "cell_type": "code",
   "execution_count": 1,
   "id": "4bf0a6bb",
   "metadata": {},
   "outputs": [
    {
     "name": "stdout",
     "output_type": "stream",
     "text": [
      "Hello World\n"
     ]
    }
   ],
   "source": [
    "print(\"Hello World\")"
   ]
  },
  {
   "cell_type": "code",
   "execution_count": 2,
   "id": "e55cbd8b",
   "metadata": {},
   "outputs": [],
   "source": [
    "# Int datatype\n",
    "x = 14\n",
    "y = 24"
   ]
  },
  {
   "cell_type": "code",
   "execution_count": 3,
   "id": "fa80e9af",
   "metadata": {},
   "outputs": [
    {
     "data": {
      "text/plain": [
       "int"
      ]
     },
     "execution_count": 3,
     "metadata": {},
     "output_type": "execute_result"
    }
   ],
   "source": [
    "type(x)"
   ]
  },
  {
   "cell_type": "code",
   "execution_count": 4,
   "id": "cce6f770",
   "metadata": {},
   "outputs": [
    {
     "data": {
      "text/plain": [
       "int"
      ]
     },
     "execution_count": 4,
     "metadata": {},
     "output_type": "execute_result"
    }
   ],
   "source": [
    "type(y)"
   ]
  },
  {
   "cell_type": "code",
   "execution_count": 5,
   "id": "28135788",
   "metadata": {},
   "outputs": [
    {
     "name": "stdout",
     "output_type": "stream",
     "text": [
      "5\n"
     ]
    }
   ],
   "source": [
    "print(1+4)"
   ]
  },
  {
   "cell_type": "code",
   "execution_count": 7,
   "id": "4c53f251",
   "metadata": {},
   "outputs": [
    {
     "name": "stdout",
     "output_type": "stream",
     "text": [
      "False\n"
     ]
    }
   ],
   "source": [
    "# Bool data type\n",
    "print(2 > 5)"
   ]
  },
  {
   "cell_type": "code",
   "execution_count": 8,
   "id": "8f5ecd9e",
   "metadata": {},
   "outputs": [
    {
     "name": "stdout",
     "output_type": "stream",
     "text": [
      "2+7\n"
     ]
    }
   ],
   "source": [
    "print(\"2+7\")"
   ]
  },
  {
   "cell_type": "code",
   "execution_count": 10,
   "id": "1761ee3f",
   "metadata": {},
   "outputs": [
    {
     "name": "stdout",
     "output_type": "stream",
     "text": [
      "8\n"
     ]
    },
    {
     "data": {
      "text/plain": [
       "15"
      ]
     },
     "execution_count": 10,
     "metadata": {},
     "output_type": "execute_result"
    }
   ],
   "source": [
    "print(2+6)\n",
    "7+8"
   ]
  },
  {
   "cell_type": "code",
   "execution_count": 11,
   "id": "f91fb3ad",
   "metadata": {},
   "outputs": [],
   "source": [
    "# Creating a list\n",
    "my_list = [1,2,3,4,5,6,\"Hello\",\"World\"]"
   ]
  },
  {
   "cell_type": "code",
   "execution_count": 12,
   "id": "c8333817",
   "metadata": {},
   "outputs": [
    {
     "name": "stdout",
     "output_type": "stream",
     "text": [
      "[1, 2, 3, 4, 5, 6, 'Hello', 'World']\n"
     ]
    }
   ],
   "source": [
    "print(my_list)"
   ]
  },
  {
   "cell_type": "code",
   "execution_count": 13,
   "id": "89364f1a",
   "metadata": {},
   "outputs": [],
   "source": [
    "my_list[2] = \"New_element\""
   ]
  },
  {
   "cell_type": "code",
   "execution_count": 14,
   "id": "a9fd0f59",
   "metadata": {},
   "outputs": [
    {
     "data": {
      "text/plain": [
       "[1, 2, 'New_element', 4, 5, 6, 'Hello', 'World']"
      ]
     },
     "execution_count": 14,
     "metadata": {},
     "output_type": "execute_result"
    }
   ],
   "source": [
    "my_list"
   ]
  },
  {
   "cell_type": "code",
   "execution_count": 15,
   "id": "aa9c6abe",
   "metadata": {},
   "outputs": [],
   "source": [
    "my_list.append(\"Append\")"
   ]
  },
  {
   "cell_type": "code",
   "execution_count": 16,
   "id": "abce36fe",
   "metadata": {},
   "outputs": [
    {
     "data": {
      "text/plain": [
       "[1, 2, 'New_element', 4, 5, 6, 'Hello', 'World', 'Append']"
      ]
     },
     "execution_count": 16,
     "metadata": {},
     "output_type": "execute_result"
    }
   ],
   "source": [
    "my_list"
   ]
  },
  {
   "cell_type": "code",
   "execution_count": 18,
   "id": "1a1e339a",
   "metadata": {},
   "outputs": [],
   "source": [
    "my_list[7] = \"new_Append\""
   ]
  },
  {
   "cell_type": "code",
   "execution_count": 19,
   "id": "cc19db66",
   "metadata": {},
   "outputs": [
    {
     "data": {
      "text/plain": [
       "[1, 2, 'New_element', 4, 5, 6, 'Hello', 'new_Append', 'Append']"
      ]
     },
     "execution_count": 19,
     "metadata": {},
     "output_type": "execute_result"
    }
   ],
   "source": [
    "my_list"
   ]
  },
  {
   "cell_type": "code",
   "execution_count": null,
   "id": "c1d019a4",
   "metadata": {},
   "outputs": [],
   "source": []
  }
 ],
 "metadata": {
  "kernelspec": {
   "display_name": "Python 3 (ipykernel)",
   "language": "python",
   "name": "python3"
  },
  "language_info": {
   "codemirror_mode": {
    "name": "ipython",
    "version": 3
   },
   "file_extension": ".py",
   "mimetype": "text/x-python",
   "name": "python",
   "nbconvert_exporter": "python",
   "pygments_lexer": "ipython3",
   "version": "3.10.8"
  }
 },
 "nbformat": 4,
 "nbformat_minor": 5
}
