{
 "cells": [
  {
   "cell_type": "code",
   "execution_count": 1,
   "id": "63b93e7b",
   "metadata": {},
   "outputs": [
    {
     "name": "stdout",
     "output_type": "stream",
     "text": [
      "Hello World\n"
     ]
    }
   ],
   "source": [
    "print(\"Hello World\")"
   ]
  },
  {
   "cell_type": "code",
   "execution_count": 2,
   "id": "a78ac7fc",
   "metadata": {},
   "outputs": [],
   "source": [
    "# Int datatype\n",
    "x = 14\n",
    "y = 24"
   ]
  },
  {
   "cell_type": "code",
   "execution_count": 3,
   "id": "6917b048",
   "metadata": {},
   "outputs": [
    {
     "data": {
      "text/plain": [
       "int"
      ]
     },
     "execution_count": 3,
     "metadata": {},
     "output_type": "execute_result"
    }
   ],
   "source": [
    "type(x)"
   ]
  },
  {
   "cell_type": "code",
   "execution_count": 4,
   "id": "5420b120",
   "metadata": {},
   "outputs": [
    {
     "data": {
      "text/plain": [
       "int"
      ]
     },
     "execution_count": 4,
     "metadata": {},
     "output_type": "execute_result"
    }
   ],
   "source": [
    "type(y)"
   ]
  },
  {
   "cell_type": "code",
   "execution_count": 5,
   "id": "3b989556",
   "metadata": {},
   "outputs": [
    {
     "name": "stdout",
     "output_type": "stream",
     "text": [
      "5\n"
     ]
    }
   ],
   "source": [
    "print(1+4)"
   ]
  },
  {
   "cell_type": "code",
   "execution_count": 7,
   "id": "044aca17",
   "metadata": {},
   "outputs": [
    {
     "name": "stdout",
     "output_type": "stream",
     "text": [
      "False\n"
     ]
    }
   ],
   "source": [
    "# Bool data type\n",
    "print(2 > 5)"
   ]
  },
  {
   "cell_type": "code",
   "execution_count": 8,
   "id": "8b3b71a2",
   "metadata": {},
   "outputs": [
    {
     "name": "stdout",
     "output_type": "stream",
     "text": [
      "2+7\n"
     ]
    }
   ],
   "source": [
    "print(\"2+7\")"
   ]
  },
  {
   "cell_type": "code",
   "execution_count": 10,
   "id": "d6ea44eb",
   "metadata": {},
   "outputs": [
    {
     "name": "stdout",
     "output_type": "stream",
     "text": [
      "8\n"
     ]
    },
    {
     "data": {
      "text/plain": [
       "15"
      ]
     },
     "execution_count": 10,
     "metadata": {},
     "output_type": "execute_result"
    }
   ],
   "source": [
    "print(2+6)\n",
    "7+8"
   ]
  },
  {
   "cell_type": "code",
   "execution_count": 11,
   "id": "596ae92a",
   "metadata": {},
   "outputs": [],
   "source": [
    "# Creating a list\n",
    "my_list = [1,2,3,4,5,6,\"Hello\",\"World\"]"
   ]
  },
  {
   "cell_type": "code",
   "execution_count": 12,
   "id": "ff745191",
   "metadata": {},
   "outputs": [
    {
     "name": "stdout",
     "output_type": "stream",
     "text": [
      "[1, 2, 3, 4, 5, 6, 'Hello', 'World']\n"
     ]
    }
   ],
   "source": [
    "print(my_list)"
   ]
  },
  {
   "cell_type": "code",
   "execution_count": 13,
   "id": "d8b67e73",
   "metadata": {},
   "outputs": [],
   "source": [
    "my_list[2] = \"New_element\""
   ]
  },
  {
   "cell_type": "code",
   "execution_count": 14,
   "id": "cfba73cc",
   "metadata": {},
   "outputs": [
    {
     "data": {
      "text/plain": [
       "[1, 2, 'New_element', 4, 5, 6, 'Hello', 'World']"
      ]
     },
     "execution_count": 14,
     "metadata": {},
     "output_type": "execute_result"
    }
   ],
   "source": [
    "my_list"
   ]
  },
  {
   "cell_type": "code",
   "execution_count": 15,
   "id": "c78a74fe",
   "metadata": {},
   "outputs": [],
   "source": [
    "my_list.append(\"Append\")"
   ]
  },
  {
   "cell_type": "code",
   "execution_count": 16,
   "id": "d971beb6",
   "metadata": {},
   "outputs": [
    {
     "data": {
      "text/plain": [
       "[1, 2, 'New_element', 4, 5, 6, 'Hello', 'World', 'Append']"
      ]
     },
     "execution_count": 16,
     "metadata": {},
     "output_type": "execute_result"
    }
   ],
   "source": [
    "my_list"
   ]
  },
  {
   "cell_type": "code",
   "execution_count": 18,
   "id": "948b6afa",
   "metadata": {},
   "outputs": [],
   "source": [
    "my_list[7] = \"new_Append\""
   ]
  },
  {
   "cell_type": "code",
   "execution_count": 19,
   "id": "3448cc75",
   "metadata": {},
   "outputs": [
    {
     "data": {
      "text/plain": [
       "[1, 2, 'New_element', 4, 5, 6, 'Hello', 'new_Append', 'Append']"
      ]
     },
     "execution_count": 19,
     "metadata": {},
     "output_type": "execute_result"
    }
   ],
   "source": [
    "my_list"
   ]
  },
  {
   "cell_type": "code",
   "execution_count": 20,
   "id": "6406508c",
   "metadata": {},
   "outputs": [],
   "source": [
    "my_list[7] = \"logo\""
   ]
  },
  {
   "cell_type": "code",
   "execution_count": 21,
   "id": "9cb69e32",
   "metadata": {},
   "outputs": [
    {
     "data": {
      "text/plain": [
       "[1, 2, 'New_element', 4, 5, 6, 'Hello', 'logo', 'Append']"
      ]
     },
     "execution_count": 21,
     "metadata": {},
     "output_type": "execute_result"
    }
   ],
   "source": [
    "my_list"
   ]
  },
  {
   "cell_type": "code",
   "execution_count": 22,
   "id": "1da93b71",
   "metadata": {},
   "outputs": [
    {
     "name": "stdout",
     "output_type": "stream",
     "text": [
      "64\n"
     ]
    }
   ],
   "source": [
    "print(2**6)"
   ]
  },
  {
   "cell_type": "code",
   "execution_count": 23,
   "id": "bce1eaf7",
   "metadata": {},
   "outputs": [
    {
     "name": "stdout",
     "output_type": "stream",
     "text": [
      "7\n"
     ]
    }
   ],
   "source": [
    "print(15//2)"
   ]
  },
  {
   "cell_type": "code",
   "execution_count": 24,
   "id": "6f297864",
   "metadata": {},
   "outputs": [
    {
     "data": {
      "text/plain": [
       "[1, 2, 'New_element', 4, 5, 6, 'Hello', 'logo', 'Append']"
      ]
     },
     "execution_count": 24,
     "metadata": {},
     "output_type": "execute_result"
    }
   ],
   "source": [
    "my_list"
   ]
  },
  {
   "cell_type": "code",
   "execution_count": 26,
   "id": "08fe1c7c",
   "metadata": {},
   "outputs": [],
   "source": [
    "my_list.remove(2)"
   ]
  },
  {
   "cell_type": "code",
   "execution_count": 27,
   "id": "ce5d75f9",
   "metadata": {},
   "outputs": [
    {
     "data": {
      "text/plain": [
       "[1, 'New_element', 4, 5, 6, 'Hello', 'logo', 'Append']"
      ]
     },
     "execution_count": 27,
     "metadata": {},
     "output_type": "execute_result"
    }
   ],
   "source": [
    "my_list"
   ]
  },
  {
   "cell_type": "code",
   "execution_count": 28,
   "id": "8e6fc20a",
   "metadata": {},
   "outputs": [],
   "source": [
    "email = \"DEAR PROFESSOR, ........ \""
   ]
  },
  {
   "cell_type": "code",
   "execution_count": 31,
   "id": "b5499141",
   "metadata": {},
   "outputs": [
    {
     "data": {
      "text/plain": [
       "'DEAR professor, ........ '"
      ]
     },
     "execution_count": 31,
     "metadata": {},
     "output_type": "execute_result"
    }
   ],
   "source": [
    "email.replace(\"PROFESSOR\",\"professor\")"
   ]
  },
  {
   "cell_type": "code",
   "execution_count": 32,
   "id": "c04ff4e6",
   "metadata": {},
   "outputs": [
    {
     "name": "stdout",
     "output_type": "stream",
     "text": [
      "DEAR PROFESSOR, ........ \n"
     ]
    }
   ],
   "source": [
    "print(email)"
   ]
  },
  {
   "cell_type": "code",
   "execution_count": 33,
   "id": "a0a81ee5",
   "metadata": {},
   "outputs": [],
   "source": [
    "avd_list = [[1,2,3,4,5],[6,7,8,9]]"
   ]
  },
  {
   "cell_type": "code",
   "execution_count": 34,
   "id": "9ba0dfb3",
   "metadata": {},
   "outputs": [
    {
     "name": "stdout",
     "output_type": "stream",
     "text": [
      "[[1, 2, 3, 4, 5], [6, 7, 8, 9]]\n"
     ]
    }
   ],
   "source": [
    "print(avd_list)"
   ]
  },
  {
   "cell_type": "code",
   "execution_count": 35,
   "id": "056cf04a",
   "metadata": {},
   "outputs": [
    {
     "data": {
      "text/plain": [
       "8"
      ]
     },
     "execution_count": 35,
     "metadata": {},
     "output_type": "execute_result"
    }
   ],
   "source": [
    "avd_list[1][2]"
   ]
  },
  {
   "cell_type": "code",
   "execution_count": 36,
   "id": "238f300c",
   "metadata": {},
   "outputs": [
    {
     "name": "stdout",
     "output_type": "stream",
     "text": [
      "3\n"
     ]
    }
   ],
   "source": [
    "print(int(7/2))"
   ]
  },
  {
   "cell_type": "code",
   "execution_count": 37,
   "id": "ced19a59",
   "metadata": {},
   "outputs": [
    {
     "name": "stdout",
     "output_type": "stream",
     "text": [
      "3\n"
     ]
    }
   ],
   "source": [
    "print(7//2)"
   ]
  },
  {
   "cell_type": "code",
   "execution_count": 38,
   "id": "e50c8f67",
   "metadata": {},
   "outputs": [
    {
     "name": "stdout",
     "output_type": "stream",
     "text": [
      "4\n"
     ]
    }
   ],
   "source": [
    "print(round(7/2))"
   ]
  },
  {
   "cell_type": "code",
   "execution_count": 40,
   "id": "14652d6d",
   "metadata": {},
   "outputs": [
    {
     "name": "stdout",
     "output_type": "stream",
     "text": [
      "The avg monthly income:  1440.0\n"
     ]
    }
   ],
   "source": [
    "# Questions from mam\n",
    "first_number = 1200\n",
    "second_number = 2000\n",
    "third_number = 800\n",
    "fourth_number = 1500\n",
    "fifth_number = 1700\n",
    "avg = (first_number + second_number + third_number + fourth_number + fifth_number) / 5\n",
    "print(\"The avg monthly income: \", avg)"
   ]
  },
  {
   "cell_type": "code",
   "execution_count": 45,
   "id": "a6a8de13",
   "metadata": {},
   "outputs": [
    {
     "name": "stdout",
     "output_type": "stream",
     "text": [
      "89\n"
     ]
    }
   ],
   "source": [
    "# For the first room\n",
    "print((4*11) + (5*9))"
   ]
  },
  {
   "cell_type": "code",
   "execution_count": 47,
   "id": "aa0c4880",
   "metadata": {},
   "outputs": [
    {
     "name": "stdout",
     "output_type": "stream",
     "text": [
      "13\n"
     ]
    }
   ],
   "source": [
    "print((17*6) - 89)"
   ]
  },
  {
   "cell_type": "code",
   "execution_count": 52,
   "id": "373e9d1b",
   "metadata": {},
   "outputs": [
    {
     "name": "stdout",
     "output_type": "stream",
     "text": [
      "Enter the first width: 4\n",
      "Enter the first height: 11\n",
      "The area of first room is:  44\n",
      "Enter the second width: 5\n",
      "Enter the second height: 9\n",
      "89\n",
      "Enter the packages: 17\n",
      "Enter the numbers: 6\n",
      "13\n"
     ]
    }
   ],
   "source": [
    "# Area of the first room\n",
    "first_width = int(input(\"Enter the first width: \"))\n",
    "first_height = int(input(\"Enter the first height: \"))\n",
    "area_one = first_width * first_height\n",
    "print(\"The area of first room is: \",area_one)\n",
    "\n",
    "# Area of the second room\n",
    "second_width = int(input(\"Enter the second width: \"))\n",
    "second_height = int(input(\"Enter the second height: \"))\n",
    "area_second = second_width * second_height\n",
    "\n",
    "# Total area is:-\n",
    "total_area = area_one + area_second\n",
    "print(total_area)\n",
    "\n",
    "# Total number of packages:-\n",
    "packages = int(input(\"Enter the packages: \"))\n",
    "\n",
    "num_of_tiles = int(input(\"Enter the numbers: \"))\n",
    "\n",
    "# Number of tiles needed:-\n",
    "\n",
    "tiles_needed = (packages * num_of_tiles) - total_area\n",
    "print(tiles_needed)"
   ]
  },
  {
   "cell_type": "code",
   "execution_count": 50,
   "id": "c65a9267",
   "metadata": {},
   "outputs": [],
   "source": [
    "import math\n",
    "length = math.sqrt(4**2 + 5**2 + 6**2)"
   ]
  },
  {
   "cell_type": "code",
   "execution_count": 51,
   "id": "ab8f6145",
   "metadata": {},
   "outputs": [
    {
     "name": "stdout",
     "output_type": "stream",
     "text": [
      "8.774964387392123\n"
     ]
    }
   ],
   "source": [
    "print(length)"
   ]
  },
  {
   "cell_type": "code",
   "execution_count": 58,
   "id": "98b99c35",
   "metadata": {},
   "outputs": [],
   "source": [
    "# String methods\n",
    "my_string = \"this is a demo string to demonstrate with\""
   ]
  },
  {
   "cell_type": "code",
   "execution_count": 61,
   "id": "9806bcce",
   "metadata": {},
   "outputs": [
    {
     "name": "stdout",
     "output_type": "stream",
     "text": [
      "This is a demo string to demonstrate with\n"
     ]
    }
   ],
   "source": [
    "# Capitalize function use to make the first carecter in capital case\n",
    "cap = my_string.capitalize()\n",
    "print(cap)"
   ]
  },
  {
   "cell_type": "code",
   "execution_count": 62,
   "id": "beec8fa8",
   "metadata": {},
   "outputs": [
    {
     "data": {
      "text/plain": [
       "'this is a demo string to demonstrate with'"
      ]
     },
     "execution_count": 62,
     "metadata": {},
     "output_type": "execute_result"
    }
   ],
   "source": [
    "# Len() function is use to find the length og the string\n",
    "my_string"
   ]
  },
  {
   "cell_type": "code",
   "execution_count": 65,
   "id": "3096877b",
   "metadata": {},
   "outputs": [
    {
     "name": "stdout",
     "output_type": "stream",
     "text": [
      "41\n"
     ]
    }
   ],
   "source": [
    "print(len(my_string))"
   ]
  },
  {
   "cell_type": "code",
   "execution_count": 66,
   "id": "ea2d265c",
   "metadata": {},
   "outputs": [
    {
     "name": "stdout",
     "output_type": "stream",
     "text": [
      "THIS IS A DEMO STRING TO DEMONSTRATE WITH\n"
     ]
    }
   ],
   "source": [
    "upper_case = my_string.upper()\n",
    "print(upper_case)"
   ]
  },
  {
   "cell_type": "code",
   "execution_count": 67,
   "id": "285fb713",
   "metadata": {},
   "outputs": [
    {
     "name": "stdout",
     "output_type": "stream",
     "text": [
      "this is a demo string to demonstrate with\n"
     ]
    }
   ],
   "source": [
    "lower_case = my_string.lower()\n",
    "print(lower_case)"
   ]
  },
  {
   "cell_type": "code",
   "execution_count": 68,
   "id": "10cf982b",
   "metadata": {},
   "outputs": [],
   "source": [
    "find_str = my_string.find(\"demo\")"
   ]
  },
  {
   "cell_type": "code",
   "execution_count": 70,
   "id": "70fcbd74",
   "metadata": {},
   "outputs": [
    {
     "name": "stdout",
     "output_type": "stream",
     "text": [
      "The index number of 'demo' is:  10\n"
     ]
    }
   ],
   "source": [
    "print(\"The index number of 'demo' is: \", find_str)"
   ]
  },
  {
   "cell_type": "code",
   "execution_count": null,
   "id": "1b8c11c6",
   "metadata": {},
   "outputs": [],
   "source": []
  }
 ],
 "metadata": {
  "kernelspec": {
   "display_name": "Python 3 (ipykernel)",
   "language": "python",
   "name": "python3"
  },
  "language_info": {
   "codemirror_mode": {
    "name": "ipython",
    "version": 3
   },
   "file_extension": ".py",
   "mimetype": "text/x-python",
   "name": "python",
   "nbconvert_exporter": "python",
   "pygments_lexer": "ipython3",
   "version": "3.10.8"
  }
 },
 "nbformat": 4,
 "nbformat_minor": 5
}
