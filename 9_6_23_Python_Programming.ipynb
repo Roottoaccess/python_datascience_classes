{
 "cells": [
  {
   "cell_type": "code",
   "execution_count": 1,
   "id": "a0228b19",
   "metadata": {},
   "outputs": [
    {
     "name": "stdout",
     "output_type": "stream",
     "text": [
      "2700\n"
     ]
    }
   ],
   "source": [
    "rent = 1700\n",
    "rent = 2000\n",
    "rent += 700\n",
    "print(rent)"
   ]
  },
  {
   "cell_type": "code",
   "execution_count": 16,
   "id": "18931eb8",
   "metadata": {},
   "outputs": [
    {
     "name": "stdout",
     "output_type": "stream",
     "text": [
      "The final amout is: 1805040.0\n"
     ]
    }
   ],
   "source": [
    "# The amount given\n",
    "amt = 1200000\n",
    "\n",
    "#salary = 9.3e5\n",
    "salary = 9.3 * 10 ** 5\n",
    "\n",
    "# Decreasing 30% of the salary as a tax\n",
    "dec_per = (salary * 30)/ 100\n",
    "salary -= dec_per\n",
    "\n",
    "# Adding Salary to the bank acoount amt variable\n",
    "amt += salary\n",
    "\n",
    "# Increasing the amount by 4% that you received from the bank\n",
    "inc_amt = (amt * 4)/ 100\n",
    "amt += inc_amt\n",
    "\n",
    "# Rent Paid\n",
    "rent_paid = 1.2 * 10 ** 5\n",
    "amt -= rent_paid\n",
    "print(\"The final amout is:\", amt)"
   ]
  },
  {
   "cell_type": "code",
   "execution_count": null,
   "id": "c3a69287",
   "metadata": {},
   "outputs": [],
   "source": []
  }
 ],
 "metadata": {
  "kernelspec": {
   "display_name": "Python 3 (ipykernel)",
   "language": "python",
   "name": "python3"
  },
  "language_info": {
   "codemirror_mode": {
    "name": "ipython",
    "version": 3
   },
   "file_extension": ".py",
   "mimetype": "text/x-python",
   "name": "python",
   "nbconvert_exporter": "python",
   "pygments_lexer": "ipython3",
   "version": "3.10.8"
  }
 },
 "nbformat": 4,
 "nbformat_minor": 5
}
