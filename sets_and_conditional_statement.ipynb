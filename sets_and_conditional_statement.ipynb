{
 "cells": [
  {
   "cell_type": "code",
   "execution_count": 2,
   "id": "19eefc21",
   "metadata": {},
   "outputs": [],
   "source": [
    "# Sets\n",
    "# 1. Python Data_Structure\n",
    "# 2. {}\n",
    "# 3. Unordered\n",
    "# 4. Unchangable -> inbuild\n",
    "# 5. It doesnot support duplicacy"
   ]
  },
  {
   "cell_type": "code",
   "execution_count": 3,
   "id": "07b53263",
   "metadata": {},
   "outputs": [],
   "source": [
    "sett = {1,2,3,4,56,1}"
   ]
  },
  {
   "cell_type": "code",
   "execution_count": 4,
   "id": "fcf058c7",
   "metadata": {},
   "outputs": [
    {
     "data": {
      "text/plain": [
       "{1, 2, 3, 4, 56}"
      ]
     },
     "execution_count": 4,
     "metadata": {},
     "output_type": "execute_result"
    }
   ],
   "source": [
    "sett"
   ]
  },
  {
   "cell_type": "code",
   "execution_count": 5,
   "id": "5ceb86c5",
   "metadata": {},
   "outputs": [],
   "source": [
    "tuple = (1,2,3,4,5,6,7,8)"
   ]
  },
  {
   "cell_type": "code",
   "execution_count": 7,
   "id": "61577b88",
   "metadata": {},
   "outputs": [],
   "source": [
    "# tuple(tuple)"
   ]
  },
  {
   "cell_type": "code",
   "execution_count": 8,
   "id": "d702332f",
   "metadata": {},
   "outputs": [],
   "source": [
    "seti = {11,3,7,1,8}"
   ]
  },
  {
   "cell_type": "code",
   "execution_count": 9,
   "id": "2aa2d6db",
   "metadata": {},
   "outputs": [
    {
     "data": {
      "text/plain": [
       "{1, 3, 7, 8, 11}"
      ]
     },
     "execution_count": 9,
     "metadata": {},
     "output_type": "execute_result"
    }
   ],
   "source": [
    "seti"
   ]
  },
  {
   "cell_type": "code",
   "execution_count": 10,
   "id": "52a20873",
   "metadata": {},
   "outputs": [],
   "source": [
    "setii = {1,2,3,4,5,4,1,2,3,2,1}"
   ]
  },
  {
   "cell_type": "code",
   "execution_count": 11,
   "id": "d68b44f0",
   "metadata": {},
   "outputs": [
    {
     "name": "stdout",
     "output_type": "stream",
     "text": [
      "{1, 2, 3, 4, 5}\n"
     ]
    }
   ],
   "source": [
    "print(setii)"
   ]
  },
  {
   "cell_type": "code",
   "execution_count": 14,
   "id": "6fb54b36",
   "metadata": {},
   "outputs": [],
   "source": [
    "# Acess the element in the set\n",
    "seti = {\"apple\" , \"mangoes\" , \"cherries\" , \"Cherries\"}"
   ]
  },
  {
   "cell_type": "code",
   "execution_count": 15,
   "id": "dca9c3f8",
   "metadata": {},
   "outputs": [
    {
     "data": {
      "text/plain": [
       "{'Cherries', 'apple', 'cherries', 'mangoes'}"
      ]
     },
     "execution_count": 15,
     "metadata": {},
     "output_type": "execute_result"
    }
   ],
   "source": [
    "seti"
   ]
  },
  {
   "cell_type": "code",
   "execution_count": 16,
   "id": "cb4160f8",
   "metadata": {},
   "outputs": [
    {
     "data": {
      "text/plain": [
       "set"
      ]
     },
     "execution_count": 16,
     "metadata": {},
     "output_type": "execute_result"
    }
   ],
   "source": [
    "type(seti)"
   ]
  },
  {
   "cell_type": "code",
   "execution_count": 22,
   "id": "d257d6a4",
   "metadata": {},
   "outputs": [],
   "source": [
    "type_casting = list(seti)"
   ]
  },
  {
   "cell_type": "code",
   "execution_count": 23,
   "id": "e7ed7208",
   "metadata": {},
   "outputs": [
    {
     "data": {
      "text/plain": [
       "list"
      ]
     },
     "execution_count": 23,
     "metadata": {},
     "output_type": "execute_result"
    }
   ],
   "source": [
    "type(type_casting)"
   ]
  },
  {
   "cell_type": "code",
   "execution_count": 24,
   "id": "51dc84b0",
   "metadata": {},
   "outputs": [
    {
     "data": {
      "text/plain": [
       "'mangoes'"
      ]
     },
     "execution_count": 24,
     "metadata": {},
     "output_type": "execute_result"
    }
   ],
   "source": [
    "type_casting[0]"
   ]
  },
  {
   "cell_type": "code",
   "execution_count": 25,
   "id": "b6562cda",
   "metadata": {},
   "outputs": [
    {
     "data": {
      "text/plain": [
       "['mangoes', 'apple', 'cherries', 'Cherries']"
      ]
     },
     "execution_count": 25,
     "metadata": {},
     "output_type": "execute_result"
    }
   ],
   "source": [
    "type_casting"
   ]
  },
  {
   "cell_type": "code",
   "execution_count": 26,
   "id": "81148dd3",
   "metadata": {},
   "outputs": [],
   "source": [
    "type_casting[0] = \"Banana\""
   ]
  },
  {
   "cell_type": "code",
   "execution_count": 27,
   "id": "a27fab59",
   "metadata": {},
   "outputs": [
    {
     "data": {
      "text/plain": [
       "['Banana', 'apple', 'cherries', 'Cherries']"
      ]
     },
     "execution_count": 27,
     "metadata": {},
     "output_type": "execute_result"
    }
   ],
   "source": [
    "type_casting"
   ]
  },
  {
   "cell_type": "code",
   "execution_count": 28,
   "id": "192e7694",
   "metadata": {},
   "outputs": [],
   "source": [
    "seti = list(type_casting)"
   ]
  },
  {
   "cell_type": "code",
   "execution_count": 29,
   "id": "f6fbc283",
   "metadata": {},
   "outputs": [
    {
     "data": {
      "text/plain": [
       "['Banana', 'apple', 'cherries', 'Cherries']"
      ]
     },
     "execution_count": 29,
     "metadata": {},
     "output_type": "execute_result"
    }
   ],
   "source": [
    "seti"
   ]
  },
  {
   "cell_type": "code",
   "execution_count": 30,
   "id": "74eba97f",
   "metadata": {},
   "outputs": [
    {
     "data": {
      "text/plain": [
       "True"
      ]
     },
     "execution_count": 30,
     "metadata": {},
     "output_type": "execute_result"
    }
   ],
   "source": [
    "# Conditional Statement\n",
    "\"Banana\" in seti"
   ]
  },
  {
   "cell_type": "code",
   "execution_count": 31,
   "id": "637b6996",
   "metadata": {},
   "outputs": [],
   "source": [
    "# CRUD operation"
   ]
  },
  {
   "cell_type": "code",
   "execution_count": 32,
   "id": "14b5f096",
   "metadata": {},
   "outputs": [],
   "source": [
    "set_a = {\"apples\",\"bananas\",\"mangoes\"}\n",
    "set_b = {\"oranges\"}\n",
    "\n",
    "# Adding up the two sets :-\n",
    "# extend , +\n",
    "\n",
    "set_a.update(set_b)"
   ]
  },
  {
   "cell_type": "code",
   "execution_count": 33,
   "id": "7daa626f",
   "metadata": {},
   "outputs": [
    {
     "data": {
      "text/plain": [
       "{'apples', 'bananas', 'mangoes', 'oranges'}"
      ]
     },
     "execution_count": 33,
     "metadata": {},
     "output_type": "execute_result"
    }
   ],
   "source": [
    "set_a"
   ]
  },
  {
   "cell_type": "code",
   "execution_count": 35,
   "id": "d1ad43ac",
   "metadata": {},
   "outputs": [],
   "source": [
    "set_a.add(\"grapes\")\n",
    "# set_c = {\"grapes\",\"kiwi\"}"
   ]
  },
  {
   "cell_type": "code",
   "execution_count": 36,
   "id": "fc893908",
   "metadata": {},
   "outputs": [],
   "source": [
    "set_a.add(\"kiwi\")"
   ]
  },
  {
   "cell_type": "code",
   "execution_count": 37,
   "id": "649fe28c",
   "metadata": {},
   "outputs": [
    {
     "data": {
      "text/plain": [
       "{'apples', 'bananas', 'grapes', 'kiwi', 'mangoes', 'oranges'}"
      ]
     },
     "execution_count": 37,
     "metadata": {},
     "output_type": "execute_result"
    }
   ],
   "source": [
    "set_a"
   ]
  },
  {
   "cell_type": "code",
   "execution_count": 38,
   "id": "fb47fc7e",
   "metadata": {},
   "outputs": [],
   "source": [
    "set_a.remove(\"oranges\")"
   ]
  },
  {
   "cell_type": "code",
   "execution_count": 39,
   "id": "698e0878",
   "metadata": {},
   "outputs": [
    {
     "data": {
      "text/plain": [
       "{'apples', 'bananas', 'grapes', 'kiwi', 'mangoes'}"
      ]
     },
     "execution_count": 39,
     "metadata": {},
     "output_type": "execute_result"
    }
   ],
   "source": [
    "set_a"
   ]
  },
  {
   "cell_type": "code",
   "execution_count": 42,
   "id": "1d3e1e86",
   "metadata": {},
   "outputs": [],
   "source": [
    "set_a.discard(\"grapes\")\n",
    "# Will not give an error after removing the element"
   ]
  },
  {
   "cell_type": "code",
   "execution_count": 43,
   "id": "1b3f43b6",
   "metadata": {},
   "outputs": [
    {
     "data": {
      "text/plain": [
       "{'apples', 'bananas', 'kiwi', 'mangoes'}"
      ]
     },
     "execution_count": 43,
     "metadata": {},
     "output_type": "execute_result"
    }
   ],
   "source": [
    "set_a"
   ]
  },
  {
   "cell_type": "code",
   "execution_count": 44,
   "id": "9f264ec0",
   "metadata": {},
   "outputs": [],
   "source": [
    "set_a.clear()"
   ]
  },
  {
   "cell_type": "code",
   "execution_count": 45,
   "id": "e3a43cc5",
   "metadata": {},
   "outputs": [
    {
     "data": {
      "text/plain": [
       "set()"
      ]
     },
     "execution_count": 45,
     "metadata": {},
     "output_type": "execute_result"
    }
   ],
   "source": [
    "set_a"
   ]
  },
  {
   "cell_type": "code",
   "execution_count": 63,
   "id": "ccde061a",
   "metadata": {},
   "outputs": [],
   "source": [
    "set_a = {\"apple\",\"bananas\",\"cherries\"}\n",
    "set_b = {\"google\",\"microsoft\",\"apple\"}"
   ]
  },
  {
   "cell_type": "code",
   "execution_count": 66,
   "id": "3cc49239",
   "metadata": {},
   "outputs": [],
   "source": [
    "# Union function of the set\n",
    "# intersection function of the set\n",
    "# issubset function of the set\n",
    "set_c = set_a.union(set_b)\n",
    "set_c = set_a.issubset(set_b)\n",
    "set_c = set_a.intersection(set_b)\n",
    "set_c = set_b.difference(set_a)"
   ]
  },
  {
   "cell_type": "code",
   "execution_count": 67,
   "id": "b8231de5",
   "metadata": {},
   "outputs": [
    {
     "data": {
      "text/plain": [
       "{'google', 'microsoft'}"
      ]
     },
     "execution_count": 67,
     "metadata": {},
     "output_type": "execute_result"
    }
   ],
   "source": [
    "set_c"
   ]
  },
  {
   "cell_type": "code",
   "execution_count": 68,
   "id": "eb9c917c",
   "metadata": {},
   "outputs": [],
   "source": [
    "# Conditional Statements"
   ]
  },
  {
   "cell_type": "code",
   "execution_count": 71,
   "id": "9c89a78f",
   "metadata": {},
   "outputs": [
    {
     "name": "stdout",
     "output_type": "stream",
     "text": [
      "Chores\n"
     ]
    }
   ],
   "source": [
    "winner = \"Germany\"\n",
    "\n",
    "if winner == \"England\":\n",
    "    print(\"5000 extra pocket money\")\n",
    "else:\n",
    "    print(\"Chores\")"
   ]
  },
  {
   "cell_type": "code",
   "execution_count": 78,
   "id": "e06b1f53",
   "metadata": {},
   "outputs": [
    {
     "name": "stdout",
     "output_type": "stream",
     "text": [
      "Enter the price: 2000\n",
      "Purchase the PS5\n"
     ]
    }
   ],
   "source": [
    "price = int(input(\"Enter the price: \"))\n",
    "\n",
    "if price < 100:\n",
    "    print(\"Buy some snakes .... \")\n",
    "elif price == 100:\n",
    "    print(\"Purchase the RC cards\")\n",
    "elif price > 1500:\n",
    "    print(\"Purchase the PS5\")\n",
    "else:\n",
    "    print(\"Cry\")"
   ]
  },
  {
   "cell_type": "code",
   "execution_count": 79,
   "id": "1840a762",
   "metadata": {},
   "outputs": [],
   "source": [
    "stri = \"Monday\""
   ]
  },
  {
   "cell_type": "code",
   "execution_count": 80,
   "id": "34f33450",
   "metadata": {},
   "outputs": [
    {
     "data": {
      "text/plain": [
       "False"
      ]
     },
     "execution_count": 80,
     "metadata": {},
     "output_type": "execute_result"
    }
   ],
   "source": [
    "stri == True"
   ]
  },
  {
   "cell_type": "code",
   "execution_count": 84,
   "id": "5aaae404",
   "metadata": {},
   "outputs": [
    {
     "name": "stdout",
     "output_type": "stream",
     "text": [
      "nothing\n"
     ]
    }
   ],
   "source": [
    "# In try except help to not showing the error and \n",
    "# go to except block\n",
    "try:\n",
    "    if stripop:\n",
    "        print(\"hello world\")\n",
    "except:\n",
    "    print(\"nothing\")"
   ]
  },
  {
   "cell_type": "code",
   "execution_count": 85,
   "id": "3211afe8",
   "metadata": {},
   "outputs": [],
   "source": [
    "listi = [\"Mr Bean\",\"Tom & Jerry\",\"Bob the Builder\",\"Richie Rich\"]"
   ]
  },
  {
   "cell_type": "code",
   "execution_count": 93,
   "id": "4afef962",
   "metadata": {},
   "outputs": [],
   "source": [
    "if \"Noddy\" in listi:\n",
    "    print(\"Yes it is\")\n",
    "elif \"Oswald\" not in listi:\n",
    "    listi.append(\"Oswald\")\n",
    "else:\n",
    "    listi.clear()"
   ]
  },
  {
   "cell_type": "code",
   "execution_count": 94,
   "id": "7f599f33",
   "metadata": {},
   "outputs": [
    {
     "data": {
      "text/plain": [
       "[]"
      ]
     },
     "execution_count": 94,
     "metadata": {},
     "output_type": "execute_result"
    }
   ],
   "source": [
    "listi"
   ]
  },
  {
   "cell_type": "code",
   "execution_count": 100,
   "id": "57681f51",
   "metadata": {},
   "outputs": [
    {
     "name": "stdout",
     "output_type": "stream",
     "text": [
      "Enter name: jeet@gmail123.com\n",
      "Drop off from the collage\n"
     ]
    }
   ],
   "source": [
    "inp = input(\"Enter name: \")\n",
    "\n",
    "if inp.isnumeric():\n",
    "    print(\"Sorry, try again\")\n",
    "elif inp.isalpha():\n",
    "    print(\"You are good to go\")\n",
    "elif inp.isalnum():\n",
    "    print(\"Sorry boss\")\n",
    "else:\n",
    "    print(\"Drop off from the collage\")"
   ]
  }
 ],
 "metadata": {
  "kernelspec": {
   "display_name": "Python 3 (ipykernel)",
   "language": "python",
   "name": "python3"
  },
  "language_info": {
   "codemirror_mode": {
    "name": "ipython",
    "version": 3
   },
   "file_extension": ".py",
   "mimetype": "text/x-python",
   "name": "python",
   "nbconvert_exporter": "python",
   "pygments_lexer": "ipython3",
   "version": "3.10.8"
  }
 },
 "nbformat": 4,
 "nbformat_minor": 5
}
