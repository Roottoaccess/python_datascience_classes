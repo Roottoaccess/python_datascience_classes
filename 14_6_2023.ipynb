{
 "cells": [
  {
   "cell_type": "code",
   "execution_count": 1,
   "id": "f1e26071",
   "metadata": {},
   "outputs": [],
   "source": [
    "# Data structures\n",
    "# List and membership Operators:-"
   ]
  },
  {
   "cell_type": "code",
   "execution_count": 2,
   "id": "936b82f0",
   "metadata": {},
   "outputs": [],
   "source": [
    "students = ['sam','pam','rocky','austin','steve','banner',1,2,3,5.6]"
   ]
  },
  {
   "cell_type": "code",
   "execution_count": 3,
   "id": "4cc690f1",
   "metadata": {},
   "outputs": [
    {
     "data": {
      "text/plain": [
       "['sam', 'pam', 'rocky', 'austin', 'steve', 'banner', 1, 2, 3, 5.6]"
      ]
     },
     "execution_count": 3,
     "metadata": {},
     "output_type": "execute_result"
    }
   ],
   "source": [
    "students"
   ]
  },
  {
   "cell_type": "code",
   "execution_count": 6,
   "id": "0b2fa2b7",
   "metadata": {},
   "outputs": [
    {
     "data": {
      "text/plain": [
       "9"
      ]
     },
     "execution_count": 6,
     "metadata": {},
     "output_type": "execute_result"
    }
   ],
   "source": [
    "len(students)-1"
   ]
  },
  {
   "cell_type": "code",
   "execution_count": 7,
   "id": "f71ca90e",
   "metadata": {},
   "outputs": [
    {
     "data": {
      "text/plain": [
       "5.6"
      ]
     },
     "execution_count": 7,
     "metadata": {},
     "output_type": "execute_result"
    }
   ],
   "source": [
    "students[len(students)-1]"
   ]
  },
  {
   "cell_type": "code",
   "execution_count": 8,
   "id": "c6523148",
   "metadata": {},
   "outputs": [
    {
     "name": "stdout",
     "output_type": "stream",
     "text": [
      "sam\n",
      "pam\n",
      "3\n"
     ]
    }
   ],
   "source": [
    "print(students[0])\n",
    "print(students[1])\n",
    "print(students[-2])"
   ]
  },
  {
   "cell_type": "code",
   "execution_count": 9,
   "id": "3e8a80ac",
   "metadata": {},
   "outputs": [],
   "source": [
    "x = 'Khusboo'"
   ]
  },
  {
   "cell_type": "code",
   "execution_count": 11,
   "id": "e5e9db8c",
   "metadata": {},
   "outputs": [
    {
     "data": {
      "text/plain": [
       "'u'"
      ]
     },
     "execution_count": 11,
     "metadata": {},
     "output_type": "execute_result"
    }
   ],
   "source": [
    "x[2]"
   ]
  },
  {
   "cell_type": "code",
   "execution_count": 13,
   "id": "f6e7e172",
   "metadata": {},
   "outputs": [
    {
     "data": {
      "text/plain": [
       "5.6"
      ]
     },
     "execution_count": 13,
     "metadata": {},
     "output_type": "execute_result"
    }
   ],
   "source": [
    "students[len(students)-1]"
   ]
  },
  {
   "cell_type": "code",
   "execution_count": 14,
   "id": "cee4c118",
   "metadata": {},
   "outputs": [
    {
     "name": "stdout",
     "output_type": "stream",
     "text": [
      "['sam', 'pam', 'rocky', 'austin', 'steve', 'banner', 1, 2, 3, 5.6]\n"
     ]
    }
   ],
   "source": [
    "print(students)"
   ]
  },
  {
   "cell_type": "code",
   "execution_count": 15,
   "id": "a3864cab",
   "metadata": {},
   "outputs": [
    {
     "name": "stdout",
     "output_type": "stream",
     "text": [
      "['pam', 'rocky', 'austin']\n"
     ]
    }
   ],
   "source": [
    "marvel = students[1:4]\n",
    "print(marvel)"
   ]
  },
  {
   "cell_type": "code",
   "execution_count": 16,
   "id": "b546b424",
   "metadata": {},
   "outputs": [
    {
     "data": {
      "text/plain": [
       "[5.6, 3, 2, 1, 'banner', 'steve', 'austin', 'rocky', 'pam', 'sam']"
      ]
     },
     "execution_count": 16,
     "metadata": {},
     "output_type": "execute_result"
    }
   ],
   "source": [
    "students[::-1]"
   ]
  },
  {
   "cell_type": "code",
   "execution_count": 18,
   "id": "8e8a96a3",
   "metadata": {},
   "outputs": [],
   "source": [
    "normal = students[4:]"
   ]
  },
  {
   "cell_type": "code",
   "execution_count": 19,
   "id": "bc65ab23",
   "metadata": {},
   "outputs": [
    {
     "data": {
      "text/plain": [
       "['steve', 'banner', 1, 2, 3, 5.6]"
      ]
     },
     "execution_count": 19,
     "metadata": {},
     "output_type": "execute_result"
    }
   ],
   "source": [
    "normal"
   ]
  },
  {
   "cell_type": "code",
   "execution_count": 20,
   "id": "58797014",
   "metadata": {},
   "outputs": [
    {
     "data": {
      "text/plain": [
       "['sam', 'pam', 'rocky', 'austin', 'steve', 'banner', 1, 2, 3, 5.6]"
      ]
     },
     "execution_count": 20,
     "metadata": {},
     "output_type": "execute_result"
    }
   ],
   "source": [
    "students"
   ]
  },
  {
   "cell_type": "code",
   "execution_count": 22,
   "id": "7d646ba5",
   "metadata": {},
   "outputs": [
    {
     "data": {
      "text/plain": [
       "['sam', 'rocky']"
      ]
     },
     "execution_count": 22,
     "metadata": {},
     "output_type": "execute_result"
    }
   ],
   "source": [
    "students[0:3:2] # it will go upto 3 and jump two values"
   ]
  },
  {
   "cell_type": "code",
   "execution_count": 23,
   "id": "3ac9ba4c",
   "metadata": {},
   "outputs": [
    {
     "data": {
      "text/plain": [
       "['sam', 'rocky', 'steve', 1, 3]"
      ]
     },
     "execution_count": 23,
     "metadata": {},
     "output_type": "execute_result"
    }
   ],
   "source": [
    "students[0::2]"
   ]
  },
  {
   "cell_type": "code",
   "execution_count": 24,
   "id": "08a59f59",
   "metadata": {},
   "outputs": [
    {
     "data": {
      "text/plain": [
       "['sam', 'rocky', 'steve', 1]"
      ]
     },
     "execution_count": 24,
     "metadata": {},
     "output_type": "execute_result"
    }
   ],
   "source": [
    "students[0:7:2]"
   ]
  },
  {
   "cell_type": "code",
   "execution_count": 27,
   "id": "f1b1663a",
   "metadata": {},
   "outputs": [
    {
     "data": {
      "text/plain": [
       "[1, 2, 3]"
      ]
     },
     "execution_count": 27,
     "metadata": {},
     "output_type": "execute_result"
    }
   ],
   "source": [
    "students[-4:-1]"
   ]
  },
  {
   "cell_type": "code",
   "execution_count": 28,
   "id": "c37ef931",
   "metadata": {},
   "outputs": [
    {
     "name": "stdout",
     "output_type": "stream",
     "text": [
      "True True\n"
     ]
    }
   ],
   "source": [
    "greeting = \"Hello there\"\n",
    "print('her' in greeting, not('He' not in greeting))"
   ]
  },
  {
   "cell_type": "code",
   "execution_count": 29,
   "id": "60916b89",
   "metadata": {},
   "outputs": [],
   "source": [
    "my_list = [\"This\",\"is\",\"Python\",\"Programming\"]"
   ]
  },
  {
   "cell_type": "code",
   "execution_count": 30,
   "id": "70c0bcac",
   "metadata": {},
   "outputs": [
    {
     "name": "stdout",
     "output_type": "stream",
     "text": [
      "['This', 'is', 'Python', 'Programming']\n"
     ]
    }
   ],
   "source": [
    "print(my_list)"
   ]
  },
  {
   "cell_type": "code",
   "execution_count": 31,
   "id": "2e0cefea",
   "metadata": {},
   "outputs": [
    {
     "data": {
      "text/plain": [
       "True"
      ]
     },
     "execution_count": 31,
     "metadata": {},
     "output_type": "execute_result"
    }
   ],
   "source": [
    "'is' in my_list"
   ]
  },
  {
   "cell_type": "code",
   "execution_count": 32,
   "id": "45597846",
   "metadata": {},
   "outputs": [],
   "source": [
    "my_list[1] = \"normally\""
   ]
  },
  {
   "cell_type": "code",
   "execution_count": 33,
   "id": "be528297",
   "metadata": {},
   "outputs": [
    {
     "data": {
      "text/plain": [
       "['This', 'normally', 'Python', 'Programming']"
      ]
     },
     "execution_count": 33,
     "metadata": {},
     "output_type": "execute_result"
    }
   ],
   "source": [
    "my_list"
   ]
  },
  {
   "cell_type": "code",
   "execution_count": 34,
   "id": "24d0b569",
   "metadata": {},
   "outputs": [],
   "source": [
    "# String are immutable cannot be modify\n",
    "# List are mutable that can be modify "
   ]
  },
  {
   "cell_type": "code",
   "execution_count": 41,
   "id": "169f8431",
   "metadata": {},
   "outputs": [
    {
     "name": "stdout",
     "output_type": "stream",
     "text": [
      "1848405871216\n",
      "pam\n",
      "1848405871216\n",
      "pamHello\n",
      "1848427750256\n",
      "1848405871216\n"
     ]
    }
   ],
   "source": [
    "student = \"pam\"\n",
    "character = student\n",
    "print(id(character))\n",
    "print(character)\n",
    "print(id(student)) # in memory where thw localtion\n",
    "\n",
    "character = character + \"Hello\"\n",
    "print(character)\n",
    "print(id(character))\n",
    "print(id(student))"
   ]
  },
  {
   "cell_type": "code",
   "execution_count": 40,
   "id": "b00a3a86",
   "metadata": {},
   "outputs": [
    {
     "name": "stdout",
     "output_type": "stream",
     "text": [
      "pam\n"
     ]
    }
   ],
   "source": [
    "print(student)"
   ]
  },
  {
   "cell_type": "code",
   "execution_count": 51,
   "id": "f3b3ac16",
   "metadata": {},
   "outputs": [
    {
     "name": "stdout",
     "output_type": "stream",
     "text": [
      "['Hello', 'World']\n",
      "1848427904704\n",
      "1848427904704\n"
     ]
    }
   ],
   "source": [
    "lengg = [\"Hello\",\"World\"]\n",
    "char = lengg\n",
    "print(lengg)\n",
    "char[1] = \"Python\"\n",
    "print(id(char))\n",
    "print(id(lengg))"
   ]
  },
  {
   "cell_type": "code",
   "execution_count": null,
   "id": "f22e21b2",
   "metadata": {},
   "outputs": [],
   "source": []
  }
 ],
 "metadata": {
  "kernelspec": {
   "display_name": "Python 3 (ipykernel)",
   "language": "python",
   "name": "python3"
  },
  "language_info": {
   "codemirror_mode": {
    "name": "ipython",
    "version": 3
   },
   "file_extension": ".py",
   "mimetype": "text/x-python",
   "name": "python",
   "nbconvert_exporter": "python",
   "pygments_lexer": "ipython3",
   "version": "3.10.8"
  }
 },
 "nbformat": 4,
 "nbformat_minor": 5
}
