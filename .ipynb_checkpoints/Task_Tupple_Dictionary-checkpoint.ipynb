{
 "cells": [
  {
   "cell_type": "code",
   "execution_count": 1,
   "id": "8b2f0154",
   "metadata": {},
   "outputs": [],
   "source": [
    "Name = []\n",
    "Games = [\"coc\",\"cod\"]"
   ]
  },
  {
   "cell_type": "code",
   "execution_count": 2,
   "id": "4d7c4002",
   "metadata": {},
   "outputs": [],
   "source": [
    "Name.append(\"Hrithik\")"
   ]
  },
  {
   "cell_type": "code",
   "execution_count": 3,
   "id": "d1cbcf9e",
   "metadata": {},
   "outputs": [
    {
     "data": {
      "text/plain": [
       "['Hrithik']"
      ]
     },
     "execution_count": 3,
     "metadata": {},
     "output_type": "execute_result"
    }
   ],
   "source": [
    "Name"
   ]
  },
  {
   "cell_type": "code",
   "execution_count": 4,
   "id": "573f92bc",
   "metadata": {},
   "outputs": [],
   "source": [
    "Name.extend(Name)"
   ]
  },
  {
   "cell_type": "code",
   "execution_count": 5,
   "id": "381a8200",
   "metadata": {},
   "outputs": [
    {
     "data": {
      "text/plain": [
       "['Hrithik', 'Hrithik']"
      ]
     },
     "execution_count": 5,
     "metadata": {},
     "output_type": "execute_result"
    }
   ],
   "source": [
    "Name"
   ]
  },
  {
   "cell_type": "code",
   "execution_count": 11,
   "id": "c28b1628",
   "metadata": {},
   "outputs": [
    {
     "data": {
      "text/plain": [
       "'nohtyP ytnoM'"
      ]
     },
     "execution_count": 11,
     "metadata": {},
     "output_type": "execute_result"
    }
   ],
   "source": [
    "# Reverse the string\n",
    "name = \"Monty Python\"\n",
    "name[::-1]"
   ]
  },
  {
   "cell_type": "code",
   "execution_count": 12,
   "id": "709443dd",
   "metadata": {},
   "outputs": [],
   "source": [
    "my_list = [\"Computer\",\"Phone\",\"iPhone\",\"Microphone\",\"Speaker\",\"Earphone\"]\n",
    "my_list.remove(\"Speaker\")"
   ]
  },
  {
   "cell_type": "code",
   "execution_count": 13,
   "id": "be860be0",
   "metadata": {},
   "outputs": [
    {
     "data": {
      "text/plain": [
       "['Computer', 'Phone', 'iPhone', 'Microphone', 'Earphone']"
      ]
     },
     "execution_count": 13,
     "metadata": {},
     "output_type": "execute_result"
    }
   ],
   "source": [
    "my_list"
   ]
  },
  {
   "cell_type": "code",
   "execution_count": 24,
   "id": "572dd7aa",
   "metadata": {},
   "outputs": [
    {
     "name": "stdout",
     "output_type": "stream",
     "text": [
      "[1, 2, 3, 4, 5, 6]\n"
     ]
    }
   ],
   "source": [
    "demo_list = [1,2,3,4,5,6]\n",
    "print(demo_list)"
   ]
  },
  {
   "cell_type": "code",
   "execution_count": 25,
   "id": "c33876f8",
   "metadata": {},
   "outputs": [],
   "source": [
    "demo_list[2] = 8"
   ]
  },
  {
   "cell_type": "code",
   "execution_count": 26,
   "id": "2e496678",
   "metadata": {},
   "outputs": [
    {
     "data": {
      "text/plain": [
       "[1, 2, 8, 4, 5, 6]"
      ]
     },
     "execution_count": 26,
     "metadata": {},
     "output_type": "execute_result"
    }
   ],
   "source": [
    "demo_list"
   ]
  },
  {
   "cell_type": "code",
   "execution_count": 27,
   "id": "95a6d3fa",
   "metadata": {},
   "outputs": [
    {
     "data": {
      "text/plain": [
       "6"
      ]
     },
     "execution_count": 27,
     "metadata": {},
     "output_type": "execute_result"
    }
   ],
   "source": [
    "demo_list.pop()"
   ]
  },
  {
   "cell_type": "code",
   "execution_count": 28,
   "id": "69d98808",
   "metadata": {},
   "outputs": [
    {
     "data": {
      "text/plain": [
       "[1, 2, 8, 4, 5]"
      ]
     },
     "execution_count": 28,
     "metadata": {},
     "output_type": "execute_result"
    }
   ],
   "source": [
    "demo_list"
   ]
  },
  {
   "cell_type": "code",
   "execution_count": 29,
   "id": "65a3e8aa",
   "metadata": {},
   "outputs": [],
   "source": [
    "demo_list.sort()"
   ]
  },
  {
   "cell_type": "code",
   "execution_count": 30,
   "id": "b4ce0f61",
   "metadata": {},
   "outputs": [
    {
     "data": {
      "text/plain": [
       "[1, 2, 4, 5, 8]"
      ]
     },
     "execution_count": 30,
     "metadata": {},
     "output_type": "execute_result"
    }
   ],
   "source": [
    "demo_list"
   ]
  },
  {
   "cell_type": "code",
   "execution_count": 32,
   "id": "f5eba075",
   "metadata": {},
   "outputs": [
    {
     "data": {
      "text/plain": [
       "1"
      ]
     },
     "execution_count": 32,
     "metadata": {},
     "output_type": "execute_result"
    }
   ],
   "source": [
    "min(demo_list)"
   ]
  },
  {
   "cell_type": "code",
   "execution_count": 33,
   "id": "dbe4540f",
   "metadata": {},
   "outputs": [
    {
     "data": {
      "text/plain": [
       "8"
      ]
     },
     "execution_count": 33,
     "metadata": {},
     "output_type": "execute_result"
    }
   ],
   "source": [
    "max(demo_list)"
   ]
  },
  {
   "cell_type": "code",
   "execution_count": 40,
   "id": "7abe6a96",
   "metadata": {},
   "outputs": [],
   "source": [
    "lis = [[[7,[5]]],[[1,[2,[3,4,[5,[9]]]]]]]"
   ]
  },
  {
   "cell_type": "code",
   "execution_count": 41,
   "id": "fab6e4af",
   "metadata": {},
   "outputs": [
    {
     "data": {
      "text/plain": [
       "[[1, [2, [3, 4, [5, [9]]]]]]"
      ]
     },
     "execution_count": 41,
     "metadata": {},
     "output_type": "execute_result"
    }
   ],
   "source": [
    "lis[1]"
   ]
  },
  {
   "cell_type": "code",
   "execution_count": 42,
   "id": "4b5893a0",
   "metadata": {},
   "outputs": [
    {
     "data": {
      "text/plain": [
       "[[1, [2, [3, 4, [5, [9]]]]]]"
      ]
     },
     "execution_count": 42,
     "metadata": {},
     "output_type": "execute_result"
    }
   ],
   "source": [
    "lis[1]"
   ]
  },
  {
   "cell_type": "code",
   "execution_count": 61,
   "id": "ae40263b",
   "metadata": {},
   "outputs": [],
   "source": [
    "lis[1][0][1][1][2][1].remove(9)"
   ]
  },
  {
   "cell_type": "code",
   "execution_count": 62,
   "id": "97888f3e",
   "metadata": {},
   "outputs": [
    {
     "data": {
      "text/plain": [
       "[[[7, [5]]], [[1, [2, [3, 4, [5, []]]]]]]"
      ]
     },
     "execution_count": 62,
     "metadata": {},
     "output_type": "execute_result"
    }
   ],
   "source": [
    "lis"
   ]
  },
  {
   "cell_type": "code",
   "execution_count": 63,
   "id": "36e48595",
   "metadata": {},
   "outputs": [],
   "source": [
    "list_one = [\"Hello\"]\n",
    "list_two = [\"World\"]\n",
    "list_one.extend(list_two)"
   ]
  },
  {
   "cell_type": "code",
   "execution_count": 64,
   "id": "63a1f058",
   "metadata": {},
   "outputs": [
    {
     "data": {
      "text/plain": [
       "['Hello', 'World']"
      ]
     },
     "execution_count": 64,
     "metadata": {},
     "output_type": "execute_result"
    }
   ],
   "source": [
    "list_one"
   ]
  },
  {
   "cell_type": "code",
   "execution_count": 65,
   "id": "6af290d2",
   "metadata": {},
   "outputs": [
    {
     "name": "stdout",
     "output_type": "stream",
     "text": [
      "Enter the numbers: 1\n",
      "Enter the numbers: 2\n",
      "Enter the numbers: 3\n",
      "Enter the numbers: 4\n",
      "Enter the numbers: 5\n",
      "Enter the numbers: 6\n",
      "Enter the numbers: 7\n",
      "Enter the numbers: 8\n"
     ]
    }
   ],
   "source": [
    "a = int(input(\"Enter the numbers: \"))\n",
    "b = int(input(\"Enter the numbers: \"))\n",
    "c = int(input(\"Enter the numbers: \"))\n",
    "d = int(input(\"Enter the numbers: \"))\n",
    "e = int(input(\"Enter the numbers: \"))\n",
    "f = int(input(\"Enter the numbers: \"))\n",
    "g = int(input(\"Enter the numbers: \"))\n",
    "h = int(input(\"Enter the numbers: \"))\n",
    "\n",
    "num = []\n",
    "num.append(a+b+c+d+e+f+g+h)"
   ]
  },
  {
   "cell_type": "code",
   "execution_count": 66,
   "id": "daa7bcab",
   "metadata": {},
   "outputs": [
    {
     "data": {
      "text/plain": [
       "[36]"
      ]
     },
     "execution_count": 66,
     "metadata": {},
     "output_type": "execute_result"
    }
   ],
   "source": [
    "num"
   ]
  },
  {
   "cell_type": "code",
   "execution_count": 67,
   "id": "89f905be",
   "metadata": {},
   "outputs": [],
   "source": [
    "list1 = [1,2,3,4]\n",
    "list2 = [5,6,7,8]\n",
    "list1 = list1 + list2"
   ]
  },
  {
   "cell_type": "code",
   "execution_count": 68,
   "id": "8be8e68f",
   "metadata": {},
   "outputs": [
    {
     "data": {
      "text/plain": [
       "[1, 2, 3, 4, 5, 6, 7, 8]"
      ]
     },
     "execution_count": 68,
     "metadata": {},
     "output_type": "execute_result"
    }
   ],
   "source": [
    "list1"
   ]
  },
  {
   "cell_type": "code",
   "execution_count": 69,
   "id": "5d34ee4e",
   "metadata": {},
   "outputs": [
    {
     "data": {
      "text/plain": [
       "[5, 6, 7, 8]"
      ]
     },
     "execution_count": 69,
     "metadata": {},
     "output_type": "execute_result"
    }
   ],
   "source": [
    "list2"
   ]
  },
  {
   "cell_type": "code",
   "execution_count": 70,
   "id": "11485dd6",
   "metadata": {},
   "outputs": [],
   "source": [
    "lis = [\"apples\", \"mangoes\", \"cherry\"]"
   ]
  },
  {
   "cell_type": "code",
   "execution_count": 71,
   "id": "06b50237",
   "metadata": {},
   "outputs": [
    {
     "name": "stdout",
     "output_type": "stream",
     "text": [
      "\f",
      "\n"
     ]
    }
   ],
   "source": [
    "clear()"
   ]
  },
  {
   "cell_type": "code",
   "execution_count": 75,
   "id": "5a8e4b78",
   "metadata": {},
   "outputs": [],
   "source": [
    "lis.clear()\n",
    "# It removes all the elements from the list"
   ]
  },
  {
   "cell_type": "code",
   "execution_count": 76,
   "id": "0fccd186",
   "metadata": {},
   "outputs": [
    {
     "data": {
      "text/plain": [
       "[]"
      ]
     },
     "execution_count": 76,
     "metadata": {},
     "output_type": "execute_result"
    }
   ],
   "source": [
    "lis"
   ]
  },
  {
   "cell_type": "code",
   "execution_count": 77,
   "id": "b555dc8b",
   "metadata": {},
   "outputs": [
    {
     "data": {
      "text/plain": [
       "[]"
      ]
     },
     "execution_count": 77,
     "metadata": {},
     "output_type": "execute_result"
    }
   ],
   "source": [
    "listi = lis.copy()\n",
    "listi"
   ]
  },
  {
   "cell_type": "code",
   "execution_count": 79,
   "id": "22e93e0b",
   "metadata": {},
   "outputs": [],
   "source": [
    "listi.append(\"Holla \"+\"Madrid\")"
   ]
  },
  {
   "cell_type": "code",
   "execution_count": 80,
   "id": "e17294ad",
   "metadata": {},
   "outputs": [
    {
     "data": {
      "text/plain": [
       "['Holla Madrid']"
      ]
     },
     "execution_count": 80,
     "metadata": {},
     "output_type": "execute_result"
    }
   ],
   "source": [
    "listi"
   ]
  },
  {
   "cell_type": "code",
   "execution_count": 82,
   "id": "2f2c18c6",
   "metadata": {},
   "outputs": [
    {
     "data": {
      "text/plain": [
       "4"
      ]
     },
     "execution_count": 82,
     "metadata": {},
     "output_type": "execute_result"
    }
   ],
   "source": [
    "kite = [1,2,3,4,5,6,1,2,1,1,2]\n",
    "kite.count(1)"
   ]
  },
  {
   "cell_type": "code",
   "execution_count": 84,
   "id": "50450620",
   "metadata": {},
   "outputs": [
    {
     "data": {
      "text/plain": [
       "11"
      ]
     },
     "execution_count": 84,
     "metadata": {},
     "output_type": "execute_result"
    }
   ],
   "source": [
    "len(kite)"
   ]
  },
  {
   "cell_type": "code",
   "execution_count": 85,
   "id": "0167e753",
   "metadata": {},
   "outputs": [],
   "source": [
    "# Tupple\n",
    "# Python Data structures\n",
    "# Immutable"
   ]
  },
  {
   "cell_type": "code",
   "execution_count": 86,
   "id": "201f3311",
   "metadata": {},
   "outputs": [],
   "source": [
    "listy = [\"Cherry\" , \"Cherry\"]"
   ]
  },
  {
   "cell_type": "code",
   "execution_count": 87,
   "id": "c02b8896",
   "metadata": {},
   "outputs": [
    {
     "data": {
      "text/plain": [
       "['Cherry', 'Cherry']"
      ]
     },
     "execution_count": 87,
     "metadata": {},
     "output_type": "execute_result"
    }
   ],
   "source": [
    "listy"
   ]
  },
  {
   "cell_type": "code",
   "execution_count": 88,
   "id": "07fe83fe",
   "metadata": {},
   "outputs": [],
   "source": [
    "tupl = (\"APPLES\" , \"MANGOES\" , \"CHERRIES\")"
   ]
  },
  {
   "cell_type": "code",
   "execution_count": 89,
   "id": "93fda559",
   "metadata": {},
   "outputs": [
    {
     "data": {
      "text/plain": [
       "tuple"
      ]
     },
     "execution_count": 89,
     "metadata": {},
     "output_type": "execute_result"
    }
   ],
   "source": [
    "type(tupl)"
   ]
  },
  {
   "cell_type": "code",
   "execution_count": 92,
   "id": "706527fc",
   "metadata": {},
   "outputs": [
    {
     "data": {
      "text/plain": [
       "'MANGOES'"
      ]
     },
     "execution_count": 92,
     "metadata": {},
     "output_type": "execute_result"
    }
   ],
   "source": [
    "# Access the element in the tupple\n",
    "tupl[1] # Positive indexing"
   ]
  },
  {
   "cell_type": "code",
   "execution_count": 93,
   "id": "ef754c65",
   "metadata": {},
   "outputs": [
    {
     "data": {
      "text/plain": [
       "'CHERRIES'"
      ]
     },
     "execution_count": 93,
     "metadata": {},
     "output_type": "execute_result"
    }
   ],
   "source": [
    "tupl[-1] # Negative indexing"
   ]
  },
  {
   "cell_type": "code",
   "execution_count": 94,
   "id": "abfcb4cd",
   "metadata": {},
   "outputs": [
    {
     "data": {
      "text/plain": [
       "('MANGOES', 'CHERRIES')"
      ]
     },
     "execution_count": 94,
     "metadata": {},
     "output_type": "execute_result"
    }
   ],
   "source": [
    "tupl[1:3]"
   ]
  },
  {
   "cell_type": "code",
   "execution_count": 95,
   "id": "d76413f2",
   "metadata": {},
   "outputs": [
    {
     "data": {
      "text/plain": [
       "('APPLES', 'MANGOES', 'CHERRIES')"
      ]
     },
     "execution_count": 95,
     "metadata": {},
     "output_type": "execute_result"
    }
   ],
   "source": [
    "tupl[0:3]"
   ]
  },
  {
   "cell_type": "code",
   "execution_count": 98,
   "id": "c7f17d43",
   "metadata": {},
   "outputs": [],
   "source": [
    "# Replace the tupple\n",
    "ls = list(tupl)"
   ]
  },
  {
   "cell_type": "code",
   "execution_count": 104,
   "id": "8cba6530",
   "metadata": {},
   "outputs": [
    {
     "data": {
      "text/plain": [
       "['APPLES', 'Banana', 'CHERRIES']"
      ]
     },
     "execution_count": 104,
     "metadata": {},
     "output_type": "execute_result"
    }
   ],
   "source": [
    "ls\n",
    "# To replace or update any element in the tupple \n",
    "# we first have to convert it into a list then we \n",
    "# will change it and again convert it in tupple"
   ]
  },
  {
   "cell_type": "code",
   "execution_count": 105,
   "id": "20271e7c",
   "metadata": {},
   "outputs": [],
   "source": [
    "ls[1] = \"Banana\""
   ]
  },
  {
   "cell_type": "code",
   "execution_count": 106,
   "id": "78d5d6cf",
   "metadata": {},
   "outputs": [
    {
     "data": {
      "text/plain": [
       "['APPLES', 'Banana', 'CHERRIES']"
      ]
     },
     "execution_count": 106,
     "metadata": {},
     "output_type": "execute_result"
    }
   ],
   "source": [
    "ls"
   ]
  },
  {
   "cell_type": "code",
   "execution_count": 107,
   "id": "2bfbac5e",
   "metadata": {},
   "outputs": [],
   "source": [
    "tupl = tuple(ls)"
   ]
  },
  {
   "cell_type": "code",
   "execution_count": 103,
   "id": "e3778ee5",
   "metadata": {},
   "outputs": [
    {
     "data": {
      "text/plain": [
       "('APPLES', 'Banana', 'CHERRIES')"
      ]
     },
     "execution_count": 103,
     "metadata": {},
     "output_type": "execute_result"
    }
   ],
   "source": [
    "tupl"
   ]
  },
  {
   "cell_type": "code",
   "execution_count": 108,
   "id": "71e94a9f",
   "metadata": {},
   "outputs": [
    {
     "data": {
      "text/plain": [
       "('APPLES', 'Banana', 'CHERRIES')"
      ]
     },
     "execution_count": 108,
     "metadata": {},
     "output_type": "execute_result"
    }
   ],
   "source": [
    " tupl"
   ]
  },
  {
   "cell_type": "code",
   "execution_count": 116,
   "id": "f994d4b0",
   "metadata": {},
   "outputs": [],
   "source": [
    "tuples = (\"Pear\",)"
   ]
  },
  {
   "cell_type": "code",
   "execution_count": 117,
   "id": "22100e20",
   "metadata": {},
   "outputs": [],
   "source": [
    "# Adding a tuple into a tupple\n",
    "tupl = tupl + tuples"
   ]
  },
  {
   "cell_type": "code",
   "execution_count": 118,
   "id": "4004756b",
   "metadata": {},
   "outputs": [
    {
     "data": {
      "text/plain": [
       "('APPLES', 'Banana', 'CHERRIES', 'Pear', 'Pear')"
      ]
     },
     "execution_count": 118,
     "metadata": {},
     "output_type": "execute_result"
    }
   ],
   "source": [
    "tupl"
   ]
  },
  {
   "cell_type": "code",
   "execution_count": 121,
   "id": "ea7f45e4",
   "metadata": {},
   "outputs": [
    {
     "name": "stdout",
     "output_type": "stream",
     "text": [
      "<class 'tuple'>\n"
     ]
    }
   ],
   "source": [
    "print(type(tupl))"
   ]
  },
  {
   "cell_type": "code",
   "execution_count": 125,
   "id": "68438e1c",
   "metadata": {},
   "outputs": [],
   "source": [
    "# Tupples methods\n",
    "# count"
   ]
  },
  {
   "cell_type": "code",
   "execution_count": 131,
   "id": "b766350a",
   "metadata": {},
   "outputs": [],
   "source": [
    "tu = (1,2,3,4,5,6,1,2,3,4,56,48)"
   ]
  },
  {
   "cell_type": "code",
   "execution_count": 132,
   "id": "eb27bb8f",
   "metadata": {},
   "outputs": [
    {
     "data": {
      "text/plain": [
       "2"
      ]
     },
     "execution_count": 132,
     "metadata": {},
     "output_type": "execute_result"
    }
   ],
   "source": [
    "tu.count(2)"
   ]
  },
  {
   "cell_type": "code",
   "execution_count": 137,
   "id": "3db915a7",
   "metadata": {},
   "outputs": [
    {
     "data": {
      "text/plain": [
       "10"
      ]
     },
     "execution_count": 137,
     "metadata": {},
     "output_type": "execute_result"
    }
   ],
   "source": [
    "# index\n",
    "tu.index(56)"
   ]
  },
  {
   "cell_type": "code",
   "execution_count": 138,
   "id": "d59fb5f0",
   "metadata": {},
   "outputs": [],
   "source": [
    "# Dictionary\n",
    "# Python Data Structures\n",
    "# Key-value pair\n",
    "# mutable -> changable"
   ]
  },
  {
   "cell_type": "code",
   "execution_count": 142,
   "id": "6fa8a038",
   "metadata": {},
   "outputs": [],
   "source": [
    "di = {\"table\":\"A wooden planck or a sheet\" , \"table\":\"It is a toy\"}"
   ]
  },
  {
   "cell_type": "code",
   "execution_count": 143,
   "id": "aa8a036e",
   "metadata": {},
   "outputs": [
    {
     "data": {
      "text/plain": [
       "dict"
      ]
     },
     "execution_count": 143,
     "metadata": {},
     "output_type": "execute_result"
    }
   ],
   "source": [
    "type(di)"
   ]
  },
  {
   "cell_type": "code",
   "execution_count": 144,
   "id": "acd1f26d",
   "metadata": {},
   "outputs": [
    {
     "data": {
      "text/plain": [
       "{'table': 'It is a toy'}"
      ]
     },
     "execution_count": 144,
     "metadata": {},
     "output_type": "execute_result"
    }
   ],
   "source": [
    "di"
   ]
  },
  {
   "cell_type": "code",
   "execution_count": 145,
   "id": "7ab2ea7d",
   "metadata": {},
   "outputs": [],
   "source": [
    "dictio = {\"book\":\"knowledge\",\"Laptop\":\"Elect\",\"Pen\":\"An instrument\"}"
   ]
  },
  {
   "cell_type": "code",
   "execution_count": 146,
   "id": "2047dd13",
   "metadata": {},
   "outputs": [
    {
     "data": {
      "text/plain": [
       "{'book': 'knowledge', 'Laptop': 'Elect', 'Pen': 'An instrument'}"
      ]
     },
     "execution_count": 146,
     "metadata": {},
     "output_type": "execute_result"
    }
   ],
   "source": [
    "dictio"
   ]
  },
  {
   "cell_type": "code",
   "execution_count": 148,
   "id": "7f0a1054",
   "metadata": {},
   "outputs": [
    {
     "data": {
      "text/plain": [
       "'knowledge'"
      ]
     },
     "execution_count": 148,
     "metadata": {},
     "output_type": "execute_result"
    }
   ],
   "source": [
    "# CRUD\n",
    "dictio[\"book\"] # List Concept"
   ]
  },
  {
   "cell_type": "code",
   "execution_count": 150,
   "id": "3f04e31f",
   "metadata": {},
   "outputs": [
    {
     "data": {
      "text/plain": [
       "'knowledge'"
      ]
     },
     "execution_count": 150,
     "metadata": {},
     "output_type": "execute_result"
    }
   ],
   "source": [
    "dictio.get(\"book\") # Dictionary Concept"
   ]
  },
  {
   "cell_type": "code",
   "execution_count": 153,
   "id": "0334f28f",
   "metadata": {},
   "outputs": [],
   "source": [
    "# Update\n",
    "dictio[\"book\"] = \"Hello World\" # List concept"
   ]
  },
  {
   "cell_type": "code",
   "execution_count": 154,
   "id": "5af627a2",
   "metadata": {},
   "outputs": [
    {
     "data": {
      "text/plain": [
       "{'book': 'Hello World', 'Laptop': 'Elect', 'Pen': 'An instrument'}"
      ]
     },
     "execution_count": 154,
     "metadata": {},
     "output_type": "execute_result"
    }
   ],
   "source": [
    "dictio"
   ]
  },
  {
   "cell_type": "code",
   "execution_count": 157,
   "id": "2153cee0",
   "metadata": {},
   "outputs": [],
   "source": [
    "dictio.update({\"Laptop\":\"Micro\"}) # Dictionary method"
   ]
  },
  {
   "cell_type": "code",
   "execution_count": 158,
   "id": "19cf9e42",
   "metadata": {},
   "outputs": [
    {
     "data": {
      "text/plain": [
       "{'book': 'Hello World', 'Laptop': 'Micro', 'Pen': 'An instrument'}"
      ]
     },
     "execution_count": 158,
     "metadata": {},
     "output_type": "execute_result"
    }
   ],
   "source": [
    "dictio"
   ]
  },
  {
   "cell_type": "code",
   "execution_count": 159,
   "id": "6997a556",
   "metadata": {},
   "outputs": [
    {
     "data": {
      "text/plain": [
       "'Micro'"
      ]
     },
     "execution_count": 159,
     "metadata": {},
     "output_type": "execute_result"
    }
   ],
   "source": [
    "# Remove a dictionary\n",
    "dictio.pop(\"Laptop\")"
   ]
  },
  {
   "cell_type": "code",
   "execution_count": 160,
   "id": "fb48da05",
   "metadata": {},
   "outputs": [
    {
     "data": {
      "text/plain": [
       "{'book': 'Hello World', 'Pen': 'An instrument'}"
      ]
     },
     "execution_count": 160,
     "metadata": {},
     "output_type": "execute_result"
    }
   ],
   "source": [
    "dictio"
   ]
  },
  {
   "cell_type": "code",
   "execution_count": 161,
   "id": "e9bfe47c",
   "metadata": {},
   "outputs": [],
   "source": [
    "# popitem -> I will delete and remove the last element (by default)"
   ]
  },
  {
   "cell_type": "code",
   "execution_count": 162,
   "id": "f661f84c",
   "metadata": {},
   "outputs": [
    {
     "data": {
      "text/plain": [
       "('Pen', 'An instrument')"
      ]
     },
     "execution_count": 162,
     "metadata": {},
     "output_type": "execute_result"
    }
   ],
   "source": [
    "dictio.popitem()"
   ]
  },
  {
   "cell_type": "code",
   "execution_count": 163,
   "id": "ffe884fd",
   "metadata": {},
   "outputs": [
    {
     "data": {
      "text/plain": [
       "{'book': 'Hello World'}"
      ]
     },
     "execution_count": 163,
     "metadata": {},
     "output_type": "execute_result"
    }
   ],
   "source": [
    "dictio"
   ]
  },
  {
   "cell_type": "code",
   "execution_count": 164,
   "id": "0bff6d5c",
   "metadata": {},
   "outputs": [],
   "source": [
    "popi = {\"A\":\"a\",\"B\":\"b\",\"C\":\"c\",\"D\":\"d\"}"
   ]
  },
  {
   "cell_type": "code",
   "execution_count": 165,
   "id": "de451b97",
   "metadata": {},
   "outputs": [
    {
     "data": {
      "text/plain": [
       "('D', 'd')"
      ]
     },
     "execution_count": 165,
     "metadata": {},
     "output_type": "execute_result"
    }
   ],
   "source": [
    "popi.popitem()"
   ]
  },
  {
   "cell_type": "code",
   "execution_count": 166,
   "id": "21c99e51",
   "metadata": {},
   "outputs": [
    {
     "data": {
      "text/plain": [
       "{'A': 'a', 'B': 'b', 'C': 'c'}"
      ]
     },
     "execution_count": 166,
     "metadata": {},
     "output_type": "execute_result"
    }
   ],
   "source": [
    "popi"
   ]
  },
  {
   "cell_type": "code",
   "execution_count": 167,
   "id": "11c6b953",
   "metadata": {},
   "outputs": [],
   "source": [
    "# copy()\n",
    "loop = popi.copy()"
   ]
  },
  {
   "cell_type": "code",
   "execution_count": 168,
   "id": "0c667e3f",
   "metadata": {},
   "outputs": [
    {
     "data": {
      "text/plain": [
       "{'A': 'a', 'B': 'b', 'C': 'c'}"
      ]
     },
     "execution_count": 168,
     "metadata": {},
     "output_type": "execute_result"
    }
   ],
   "source": [
    "loop"
   ]
  },
  {
   "cell_type": "code",
   "execution_count": 169,
   "id": "5d230f23",
   "metadata": {},
   "outputs": [],
   "source": [
    "# Clear()\n",
    "loop.clear()"
   ]
  },
  {
   "cell_type": "code",
   "execution_count": 170,
   "id": "d76c1184",
   "metadata": {},
   "outputs": [
    {
     "data": {
      "text/plain": [
       "{}"
      ]
     },
     "execution_count": 170,
     "metadata": {},
     "output_type": "execute_result"
    }
   ],
   "source": [
    "loop"
   ]
  },
  {
   "cell_type": "code",
   "execution_count": 171,
   "id": "0c05094f",
   "metadata": {},
   "outputs": [
    {
     "data": {
      "text/plain": [
       "{'A': 'a', 'B': 'b', 'C': 'c'}"
      ]
     },
     "execution_count": 171,
     "metadata": {},
     "output_type": "execute_result"
    }
   ],
   "source": [
    "popi"
   ]
  },
  {
   "cell_type": "code",
   "execution_count": 172,
   "id": "95b15592",
   "metadata": {},
   "outputs": [
    {
     "data": {
      "text/plain": [
       "dict_keys(['A', 'B', 'C'])"
      ]
     },
     "execution_count": 172,
     "metadata": {},
     "output_type": "execute_result"
    }
   ],
   "source": [
    "popi.keys() # Showing the keys "
   ]
  },
  {
   "cell_type": "code",
   "execution_count": 173,
   "id": "bb419a93",
   "metadata": {},
   "outputs": [
    {
     "data": {
      "text/plain": [
       "dict_values(['a', 'b', 'c'])"
      ]
     },
     "execution_count": 173,
     "metadata": {},
     "output_type": "execute_result"
    }
   ],
   "source": [
    "popi.values() # Showing the values"
   ]
  },
  {
   "cell_type": "code",
   "execution_count": 174,
   "id": "7afcac9c",
   "metadata": {},
   "outputs": [],
   "source": [
    "dic = {\"Cloud\":[\"AWS\",\"GCP\",\"Azure\",\"Heroku\"]}"
   ]
  },
  {
   "cell_type": "code",
   "execution_count": 175,
   "id": "aaf2aaf8",
   "metadata": {},
   "outputs": [
    {
     "data": {
      "text/plain": [
       "{'Cloud': ['AWS', 'GCP', 'Azure', 'Heroku']}"
      ]
     },
     "execution_count": 175,
     "metadata": {},
     "output_type": "execute_result"
    }
   ],
   "source": [
    "dic"
   ]
  },
  {
   "cell_type": "code",
   "execution_count": 180,
   "id": "0fc40bcf",
   "metadata": {},
   "outputs": [
    {
     "data": {
      "text/plain": [
       "'Heroku'"
      ]
     },
     "execution_count": 180,
     "metadata": {},
     "output_type": "execute_result"
    }
   ],
   "source": [
    "dic.get(\"Cloud\")[-1]"
   ]
  },
  {
   "cell_type": "code",
   "execution_count": 179,
   "id": "98aa023e",
   "metadata": {},
   "outputs": [],
   "source": [
    "dicc = {\"Python\":{\"Data\":12}} # Nested dictionary"
   ]
  },
  {
   "cell_type": "code",
   "execution_count": 182,
   "id": "05ebc8c7",
   "metadata": {},
   "outputs": [
    {
     "data": {
      "text/plain": [
       "12"
      ]
     },
     "execution_count": 182,
     "metadata": {},
     "output_type": "execute_result"
    }
   ],
   "source": [
    "dicc[\"Python\"][\"Data\"]"
   ]
  },
  {
   "cell_type": "code",
   "execution_count": 183,
   "id": "d961cbe8",
   "metadata": {},
   "outputs": [
    {
     "data": {
      "text/plain": [
       "12"
      ]
     },
     "execution_count": 183,
     "metadata": {},
     "output_type": "execute_result"
    }
   ],
   "source": [
    "dicc.get(\"Python\").get(\"Data\")"
   ]
  }
 ],
 "metadata": {
  "kernelspec": {
   "display_name": "Python 3 (ipykernel)",
   "language": "python",
   "name": "python3"
  },
  "language_info": {
   "codemirror_mode": {
    "name": "ipython",
    "version": 3
   },
   "file_extension": ".py",
   "mimetype": "text/x-python",
   "name": "python",
   "nbconvert_exporter": "python",
   "pygments_lexer": "ipython3",
   "version": "3.10.8"
  }
 },
 "nbformat": 4,
 "nbformat_minor": 5
}
