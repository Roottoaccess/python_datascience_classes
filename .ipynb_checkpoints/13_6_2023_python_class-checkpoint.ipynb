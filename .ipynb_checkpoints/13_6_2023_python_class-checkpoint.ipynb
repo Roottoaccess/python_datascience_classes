{
 "cells": [
  {
   "cell_type": "code",
   "execution_count": 1,
   "id": "450a7ccb",
   "metadata": {},
   "outputs": [
    {
     "name": "stdout",
     "output_type": "stream",
     "text": [
      "hello world\n"
     ]
    }
   ],
   "source": [
    "print(\"hello\" + \" \" + \"world\")"
   ]
  },
  {
   "cell_type": "code",
   "execution_count": 4,
   "id": "4d25ce06",
   "metadata": {},
   "outputs": [],
   "source": [
    "a = \"hello \"*6"
   ]
  },
  {
   "cell_type": "code",
   "execution_count": 5,
   "id": "4ec02f01",
   "metadata": {},
   "outputs": [
    {
     "name": "stdout",
     "output_type": "stream",
     "text": [
      "hello hello hello hello hello hello \n"
     ]
    }
   ],
   "source": [
    "print(a)"
   ]
  },
  {
   "cell_type": "code",
   "execution_count": 6,
   "id": "4bf87236",
   "metadata": {},
   "outputs": [
    {
     "name": "stdout",
     "output_type": "stream",
     "text": [
      "hello55\n"
     ]
    }
   ],
   "source": [
    "word = \"hello\"\n",
    "print(word+'5'+'5')"
   ]
  },
  {
   "cell_type": "code",
   "execution_count": 7,
   "id": "0269f31b",
   "metadata": {},
   "outputs": [
    {
     "name": "stdout",
     "output_type": "stream",
     "text": [
      "7\n"
     ]
    }
   ],
   "source": [
    "world_length = len(\"ShapeAI\")\n",
    "print(world_length)"
   ]
  },
  {
   "cell_type": "code",
   "execution_count": 8,
   "id": "435767bd",
   "metadata": {},
   "outputs": [],
   "source": [
    "given_name = \"Rahul\"\n",
    "middle_name = \"Shastri\"\n",
    "family_name = \"Mishra\""
   ]
  },
  {
   "cell_type": "code",
   "execution_count": 9,
   "id": "f43b87f5",
   "metadata": {},
   "outputs": [],
   "source": [
    "con = given_name + \" \" + middle_name + \" \" + family_name"
   ]
  },
  {
   "cell_type": "code",
   "execution_count": 10,
   "id": "fee89b50",
   "metadata": {},
   "outputs": [
    {
     "data": {
      "text/plain": [
       "'Rahul Shastri Mishra'"
      ]
     },
     "execution_count": 10,
     "metadata": {},
     "output_type": "execute_result"
    }
   ],
   "source": [
    "con"
   ]
  },
  {
   "cell_type": "code",
   "execution_count": 11,
   "id": "a561e009",
   "metadata": {},
   "outputs": [
    {
     "name": "stdout",
     "output_type": "stream",
     "text": [
      "20\n"
     ]
    }
   ],
   "source": [
    "print(len(con))"
   ]
  },
  {
   "cell_type": "code",
   "execution_count": 14,
   "id": "32e159ac",
   "metadata": {},
   "outputs": [
    {
     "name": "stdout",
     "output_type": "stream",
     "text": [
      "20\n"
     ]
    }
   ],
   "source": [
    "given_name = \"Rahul\"\n",
    "middle_name = \"Shastri\"\n",
    "family_name = \"Mishra\"\n",
    "\n",
    "con = given_name + \" \" + middle_name + \" \" + family_name\n",
    "\n",
    "print(len(con))"
   ]
  },
  {
   "cell_type": "code",
   "execution_count": 19,
   "id": "1431625b",
   "metadata": {},
   "outputs": [
    {
     "name": "stdout",
     "output_type": "stream",
     "text": [
      "270\n"
     ]
    }
   ],
   "source": [
    "monday = '50'\n",
    "tuesday = '100'\n",
    "wed = '120'\n",
    "monday = int(monday)\n",
    "tuesday = int(tuesday)\n",
    "wed = int(wed)\n",
    "\n",
    "total = monday + tuesday + wed\n",
    "total = str(total)\n",
    "print(total)"
   ]
  },
  {
   "cell_type": "code",
   "execution_count": 20,
   "id": "eb67da16",
   "metadata": {},
   "outputs": [
    {
     "data": {
      "text/plain": [
       "str"
      ]
     },
     "execution_count": 20,
     "metadata": {},
     "output_type": "execute_result"
    }
   ],
   "source": [
    "type(total)"
   ]
  },
  {
   "cell_type": "code",
   "execution_count": 22,
   "id": "e09e6dea",
   "metadata": {},
   "outputs": [
    {
     "name": "stdout",
     "output_type": "stream",
     "text": [
      "Enter your name: Jeet\n",
      "98\n",
      "Jeet has scored 98 marks\n"
     ]
    }
   ],
   "source": [
    "# Formating in the string\n",
    "name = input(\"Enter your name: \")\n",
    "marks = int(input())\n",
    "print(\"{} has scored {} marks\".format(name,marks))"
   ]
  },
  {
   "cell_type": "code",
   "execution_count": 23,
   "id": "913bb560",
   "metadata": {},
   "outputs": [
    {
     "name": "stdout",
     "output_type": "stream",
     "text": [
      "3\n",
      "<class 'int'>\n"
     ]
    }
   ],
   "source": [
    "decimal = int('3')\n",
    "print(decimal)\n",
    "print(type(decimal))"
   ]
  },
  {
   "cell_type": "code",
   "execution_count": 26,
   "id": "b4ab4239",
   "metadata": {},
   "outputs": [
    {
     "name": "stdout",
     "output_type": "stream",
     "text": [
      "I scored 15 in coding during my first semister \n"
     ]
    }
   ],
   "source": [
    "marks = 15\n",
    "subject = \"coding\"\n",
    "semester = \"first\"\n",
    "\n",
    "result = \"I scored \"+ str(marks) + \" in \"+ subject +\" during my \"+ semester +\" semister \"\n",
    "print(result)"
   ]
  },
  {
   "cell_type": "code",
   "execution_count": 28,
   "id": "17385c1f",
   "metadata": {},
   "outputs": [
    {
     "name": "stdout",
     "output_type": "stream",
     "text": [
      "False\n",
      "4\n",
      "2\n"
     ]
    }
   ],
   "source": [
    "# String methods\n",
    "my_string = \"ABCaaaa\"\n",
    "print(my_string.islower())\n",
    "\n",
    "print(my_string.count('a'))\n",
    "\n",
    "print(my_string.find('C'))"
   ]
  },
  {
   "cell_type": "code",
   "execution_count": 29,
   "id": "28e5542e",
   "metadata": {},
   "outputs": [
    {
     "data": {
      "text/plain": [
       "'abcaaaa'"
      ]
     },
     "execution_count": 29,
     "metadata": {},
     "output_type": "execute_result"
    }
   ],
   "source": [
    "my_string.lower()"
   ]
  },
  {
   "cell_type": "code",
   "execution_count": 30,
   "id": "19255976",
   "metadata": {},
   "outputs": [
    {
     "data": {
      "text/plain": [
       "'ABCAAAA'"
      ]
     },
     "execution_count": 30,
     "metadata": {},
     "output_type": "execute_result"
    }
   ],
   "source": [
    "my_string.upper()"
   ]
  }
 ],
 "metadata": {
  "kernelspec": {
   "display_name": "Python 3 (ipykernel)",
   "language": "python",
   "name": "python3"
  },
  "language_info": {
   "codemirror_mode": {
    "name": "ipython",
    "version": 3
   },
   "file_extension": ".py",
   "mimetype": "text/x-python",
   "name": "python",
   "nbconvert_exporter": "python",
   "pygments_lexer": "ipython3",
   "version": "3.10.8"
  }
 },
 "nbformat": 4,
 "nbformat_minor": 5
}
