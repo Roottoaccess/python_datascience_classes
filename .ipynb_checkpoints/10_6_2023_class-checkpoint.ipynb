{
 "cells": [
  {
   "cell_type": "code",
   "execution_count": 1,
   "id": "2ec9a06a",
   "metadata": {},
   "outputs": [
    {
     "name": "stdout",
     "output_type": "stream",
     "text": [
      "<class 'int'>\n",
      "<class 'float'>\n"
     ]
    }
   ],
   "source": [
    "a = 3\n",
    "b = 2.0\n",
    "\n",
    "print(type(a))\n",
    "print(type(b))"
   ]
  },
  {
   "cell_type": "code",
   "execution_count": 3,
   "id": "6df9fed9",
   "metadata": {},
   "outputs": [
    {
     "name": "stdout",
     "output_type": "stream",
     "text": [
      "<class 'float'>\n",
      "28\n"
     ]
    }
   ],
   "source": [
    "num = 28.9\n",
    "print(type(num))\n",
    "print(int(num))"
   ]
  },
  {
   "cell_type": "code",
   "execution_count": 7,
   "id": "1c000754",
   "metadata": {},
   "outputs": [
    {
     "name": "stdout",
     "output_type": "stream",
     "text": [
      "Enter the marks: 99\n",
      "True\n"
     ]
    }
   ],
   "source": [
    "# Logical operator\n",
    "marks = int(input(\"Enter the marks: \"))\n",
    "operation = marks > 80 and marks <= 100\n",
    "print(operation)"
   ]
  },
  {
   "cell_type": "code",
   "execution_count": 8,
   "id": "a2368f65",
   "metadata": {},
   "outputs": [
    {
     "name": "stdout",
     "output_type": "stream",
     "text": [
      "True\n"
     ]
    }
   ],
   "source": [
    "rent = 1200\n",
    "is_affordable = not(rent > 2000 and rent > 200)\n",
    "print(is_affordable)"
   ]
  },
  {
   "cell_type": "code",
   "execution_count": 10,
   "id": "b4c681de",
   "metadata": {},
   "outputs": [
    {
     "name": "stdout",
     "output_type": "stream",
     "text": [
      "False\n"
     ]
    }
   ],
   "source": [
    "mum_population ,mum_area = 20411000 , 4355\n",
    "del_population, del_area = 30291000, 1484\n",
    "mum = mum_population/mum_area\n",
    "delhi = del_population / del_area\n",
    "result = mum > delhi\n",
    "print(result)"
   ]
  },
  {
   "cell_type": "code",
   "execution_count": 11,
   "id": "425ee9ad",
   "metadata": {},
   "outputs": [
    {
     "name": "stdout",
     "output_type": "stream",
     "text": [
      "ShapeAI\n",
      "ShapeAI\n"
     ]
    }
   ],
   "source": [
    "# Strings\n",
    "print('ShapeAI')\n",
    "print(\"ShapeAI\")"
   ]
  },
  {
   "cell_type": "code",
   "execution_count": 12,
   "id": "c83154ec",
   "metadata": {},
   "outputs": [
    {
     "name": "stdout",
     "output_type": "stream",
     "text": [
      "Learn | Code | Complete | Intern\n"
     ]
    }
   ],
   "source": [
    "motto = \"Learn | Code | Complete | Intern\"\n",
    "print(motto)"
   ]
  },
  {
   "cell_type": "code",
   "execution_count": 13,
   "id": "171fcf43",
   "metadata": {},
   "outputs": [
    {
     "data": {
      "text/plain": [
       "str"
      ]
     },
     "execution_count": 13,
     "metadata": {},
     "output_type": "execute_result"
    }
   ],
   "source": [
    "type(motto)"
   ]
  },
  {
   "cell_type": "code",
   "execution_count": 18,
   "id": "8bc8c30c",
   "metadata": {},
   "outputs": [
    {
     "name": "stdout",
     "output_type": "stream",
     "text": [
      "Hello World Hello World \n"
     ]
    }
   ],
   "source": [
    "print(\"Hello World \" * 2)"
   ]
  },
  {
   "cell_type": "code",
   "execution_count": 19,
   "id": "7278bc97",
   "metadata": {},
   "outputs": [
    {
     "name": "stdout",
     "output_type": "stream",
     "text": [
      "shiva said , 'you learn as you grow'\n"
     ]
    }
   ],
   "source": [
    "dialogue = \"shiva said , 'you learn as you grow'\"\n",
    "print(dialogue)"
   ]
  },
  {
   "cell_type": "code",
   "execution_count": 21,
   "id": "9660589c",
   "metadata": {},
   "outputs": [
    {
     "name": "stdout",
     "output_type": "stream",
     "text": [
      "shiva you're bag is red\n"
     ]
    }
   ],
   "source": [
    "new_dia = 'shiva you\\'re bag is red'\n",
    "# \\ backslash will tell string it is a part of string too\n",
    "print(new_dia)"
   ]
  },
  {
   "cell_type": "code",
   "execution_count": 24,
   "id": "a94d4c46",
   "metadata": {},
   "outputs": [
    {
     "name": "stdout",
     "output_type": "stream",
     "text": [
      "Hello World\n"
     ]
    }
   ],
   "source": [
    "print(\"Hello\"+\" \"+\"World\")\n",
    "# String concatination "
   ]
  },
  {
   "cell_type": "code",
   "execution_count": 27,
   "id": "9e71a794",
   "metadata": {},
   "outputs": [
    {
     "name": "stdout",
     "output_type": "stream",
     "text": [
      "This is python we are cod\"ing in python\n"
     ]
    }
   ],
   "source": [
    "print(\"This is python we are cod\\\"ing in python\")"
   ]
  }
 ],
 "metadata": {
  "kernelspec": {
   "display_name": "Python 3 (ipykernel)",
   "language": "python",
   "name": "python3"
  },
  "language_info": {
   "codemirror_mode": {
    "name": "ipython",
    "version": 3
   },
   "file_extension": ".py",
   "mimetype": "text/x-python",
   "name": "python",
   "nbconvert_exporter": "python",
   "pygments_lexer": "ipython3",
   "version": "3.10.8"
  }
 },
 "nbformat": 4,
 "nbformat_minor": 5
}
