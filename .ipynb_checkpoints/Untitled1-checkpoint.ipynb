{
 "cells": [
  {
   "cell_type": "code",
   "execution_count": 3,
   "id": "6a156973",
   "metadata": {},
   "outputs": [
    {
     "name": "stdout",
     "output_type": "stream",
     "text": [
      "Hello World\n"
     ]
    }
   ],
   "source": [
    "print(\"Hello World\")"
   ]
  },
  {
   "cell_type": "code",
   "execution_count": 7,
   "id": "3333b719",
   "metadata": {},
   "outputs": [
    {
     "name": "stdout",
     "output_type": "stream",
     "text": [
      "Enter the width: 4\n",
      "Enter the heigth: 11\n",
      "The area of first room is:  44\n",
      "Enter the width: 5\n",
      "Enter the heigth: 9\n",
      "The area of second room is:  45\n",
      "The total area is: 89\n",
      "The tiles are needed:  89\n",
      "Enter the number of packages: 17\n",
      "Enter the number of tiles present in each packages: 6\n",
      "The total number of tiles are:  102\n",
      "The tiles are left over:  13\n"
     ]
    }
   ],
   "source": [
    "# Solving another problem and finding How many tiles are needed and how many are left ?\n",
    "# firstly we need to calculate the areas of two rooms \n",
    "# first room area:- \n",
    "first_width = int(input(\"Enter the width: \"))\n",
    "first_height = int(input(\"Enter the heigth: \"))\n",
    "cal_first_area = first_width * first_height\n",
    "print(\"The area of first room is: \",cal_first_area)\n",
    "\n",
    "# second room area:-\n",
    "second_width = int(input(\"Enter the width: \"))\n",
    "second_heigth = int(input(\"Enter the heigth: \"))\n",
    "cal_second_area = second_width * second_heigth\n",
    "print(\"The area of second room is: \",cal_second_area)\n",
    "\n",
    "# Now let's calculate the total area:-\n",
    "total_area = cal_first_area + cal_second_area\n",
    "print(\"The total area is:\", total_area)\n",
    "\n",
    "# As in the question given each tiles is 1ft*1ft so \n",
    "# we can consider that it is of 1 sqft\n",
    "# So the total number of tiles needed is equals to the \n",
    "# total area of the two rooms\n",
    "print(\"The tiles are needed: \",total_area)\n",
    "\n",
    "# Now we will solve the second problem :-\n",
    "# As we know that we bought 17 packages each containes 6 tiles\n",
    "# So the total number of tiles are :- \n",
    "number_of_packages = int(input(\"Enter the number of packages: \"))\n",
    "number_of_tiles = int(input(\"Enter the number of tiles present in each packages: \"))\n",
    "\n",
    "total_no_tiles = number_of_packages * number_of_tiles\n",
    "print(\"The total number of tiles are: \",total_no_tiles)\n",
    "\n",
    "# So now if we need to find the number of tiles left:-\n",
    "total_no_tiles_left = total_no_tiles - total_area\n",
    "print(\"The tiles are left over: \",total_no_tiles_left)"
   ]
  },
  {
   "cell_type": "code",
   "execution_count": null,
   "id": "8ab414c3",
   "metadata": {},
   "outputs": [],
   "source": []
  }
 ],
 "metadata": {
  "kernelspec": {
   "display_name": "Python 3 (ipykernel)",
   "language": "python",
   "name": "python3"
  },
  "language_info": {
   "codemirror_mode": {
    "name": "ipython",
    "version": 3
   },
   "file_extension": ".py",
   "mimetype": "text/x-python",
   "name": "python",
   "nbconvert_exporter": "python",
   "pygments_lexer": "ipython3",
   "version": "3.10.8"
  }
 },
 "nbformat": 4,
 "nbformat_minor": 5
}
