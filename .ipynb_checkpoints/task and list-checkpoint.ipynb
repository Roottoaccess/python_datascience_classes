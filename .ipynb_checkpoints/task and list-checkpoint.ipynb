{
 "cells": [
  {
   "cell_type": "code",
   "execution_count": 100,
   "id": "db3512e6",
   "metadata": {},
   "outputs": [
    {
     "name": "stdout",
     "output_type": "stream",
     "text": [
      "Enter the number: \n"
     ]
    },
    {
     "ename": "ValueError",
     "evalue": "invalid literal for int() with base 10: ''",
     "output_type": "error",
     "traceback": [
      "\u001b[1;31m---------------------------------------------------------------------------\u001b[0m",
      "\u001b[1;31mValueError\u001b[0m                                Traceback (most recent call last)",
      "Cell \u001b[1;32mIn[100], line 2\u001b[0m\n\u001b[0;32m      1\u001b[0m value \u001b[38;5;241m=\u001b[39m \u001b[38;5;28minput\u001b[39m(\u001b[38;5;124m\"\u001b[39m\u001b[38;5;124mEnter the number: \u001b[39m\u001b[38;5;124m\"\u001b[39m)\n\u001b[1;32m----> 2\u001b[0m converting \u001b[38;5;241m=\u001b[39m \u001b[38;5;28;43mint\u001b[39;49m\u001b[43m(\u001b[49m\u001b[43mvalue\u001b[49m\u001b[43m)\u001b[49m\n\u001b[0;32m      3\u001b[0m \u001b[38;5;28mprint\u001b[39m(\u001b[38;5;124m\"\u001b[39m\u001b[38;5;124mAfter converting it: \u001b[39m\u001b[38;5;124m\"\u001b[39m,converting,\u001b[38;5;28mtype\u001b[39m(converting))\n",
      "\u001b[1;31mValueError\u001b[0m: invalid literal for int() with base 10: ''"
     ]
    }
   ],
   "source": [
    "value = input(\"Enter the number: \")\n",
    "converting = int(value)\n",
    "print(\"After converting it: \",converting,type(converting))"
   ]
  },
  {
   "cell_type": "code",
   "execution_count": 101,
   "id": "a9a7d482",
   "metadata": {},
   "outputs": [
    {
     "name": "stdout",
     "output_type": "stream",
     "text": [
      "Enter the first number: 12\n",
      "Enter the second number: 12\n",
      "12\n"
     ]
    }
   ],
   "source": [
    "# Take two numbers as an input from the users and\n",
    "# perform the following operations (a+b)-(-a)\n",
    "\n",
    "first_number = int(input(\"Enter the first number: \"))\n",
    "second_number = int(input(\"Enter the second number: \"))\n",
    "\n",
    "# third_number = first_number\n",
    "\n",
    "operation = (first_number + second_number)-(+(first_number))\n",
    "\n",
    "print(operation)"
   ]
  },
  {
   "cell_type": "code",
   "execution_count": 102,
   "id": "dc275330",
   "metadata": {},
   "outputs": [
    {
     "name": "stdout",
     "output_type": "stream",
     "text": [
      "WelcomeWelcomeWelcomeWelcomeWelcomeWelcomeWelcomeWelcomeWelcome\n"
     ]
    }
   ],
   "source": [
    "stri = \"Welcome\"\n",
    "print(stri * 9)"
   ]
  },
  {
   "cell_type": "code",
   "execution_count": 103,
   "id": "1aa0f9e1",
   "metadata": {},
   "outputs": [
    {
     "name": "stdout",
     "output_type": "stream",
     "text": [
      "*example**\n"
     ]
    }
   ],
   "source": [
    "stri = \"example\"\n",
    "print(stri.center(10,'*'))"
   ]
  },
  {
   "cell_type": "code",
   "execution_count": 104,
   "id": "c26afeda",
   "metadata": {},
   "outputs": [
    {
     "name": "stdout",
     "output_type": "stream",
     "text": [
      "PROFESSOR\n"
     ]
    }
   ],
   "source": [
    "email = \"DEAR PROFESSOR,........\"\n",
    "slicing = email[5:14]\n",
    "print(slicing)"
   ]
  },
  {
   "cell_type": "code",
   "execution_count": 105,
   "id": "1dac7648",
   "metadata": {},
   "outputs": [
    {
     "name": "stdout",
     "output_type": "stream",
     "text": [
      "professor\n"
     ]
    }
   ],
   "source": [
    "converted_string = slicing.lower()\n",
    "print(converted_string)"
   ]
  },
  {
   "cell_type": "code",
   "execution_count": 106,
   "id": "d0347e5a",
   "metadata": {},
   "outputs": [
    {
     "name": "stdout",
     "output_type": "stream",
     "text": [
      "The string after converting is:  DEAR PROFESSOR,........professor\n"
     ]
    }
   ],
   "source": [
    "print(\"The string after converting is: \", email + converted_string)"
   ]
  },
  {
   "cell_type": "code",
   "execution_count": 107,
   "id": "3284f031",
   "metadata": {},
   "outputs": [],
   "source": [
    "email = \"DEAR PROFESSOR,........\"\n",
    "replaced_string = email.replace(\"PROFESSOR\",'professor')"
   ]
  },
  {
   "cell_type": "code",
   "execution_count": 108,
   "id": "a625e11f",
   "metadata": {},
   "outputs": [
    {
     "name": "stdout",
     "output_type": "stream",
     "text": [
      "DEAR professor,........\n"
     ]
    }
   ],
   "source": [
    "print(replaced_string)"
   ]
  },
  {
   "cell_type": "code",
   "execution_count": 109,
   "id": "a95353fc",
   "metadata": {},
   "outputs": [
    {
     "data": {
      "text/plain": [
       "True"
      ]
     },
     "execution_count": 109,
     "metadata": {},
     "output_type": "execute_result"
    }
   ],
   "source": [
    "\"How to stop Thanos from snapping\".endswith(\"g\")"
   ]
  },
  {
   "cell_type": "code",
   "execution_count": 110,
   "id": "1c3d02ba",
   "metadata": {},
   "outputs": [
    {
     "name": "stdout",
     "output_type": "stream",
     "text": [
      "Welcome\n",
      "Welcome\n"
     ]
    }
   ],
   "source": [
    "a = \"welcome\"\n",
    "print(((a.upper()).lower()).capitalize())\n",
    "print(a.upper().lower().capitalize())"
   ]
  },
  {
   "cell_type": "code",
   "execution_count": 111,
   "id": "da8e573a",
   "metadata": {},
   "outputs": [
    {
     "name": "stdout",
     "output_type": "stream",
     "text": [
      "<class 'str'>\n"
     ]
    }
   ],
   "source": [
    "print(type(str(int(float(14.7)))))"
   ]
  },
  {
   "cell_type": "code",
   "execution_count": 112,
   "id": "a9ee9b27",
   "metadata": {},
   "outputs": [
    {
     "name": "stdout",
     "output_type": "stream",
     "text": [
      "14\n"
     ]
    }
   ],
   "source": [
    "a = 14.9\n",
    "b = int(a)\n",
    "print(b)"
   ]
  },
  {
   "cell_type": "code",
   "execution_count": 113,
   "id": "940a8cc1",
   "metadata": {},
   "outputs": [],
   "source": [
    "# LIST\n",
    "# list is a python data structure\n",
    "# CRUD operation (Create , Read , Update , Delete)\n",
    "# Stores hetrogenous data\n",
    "# It allows duplicate values"
   ]
  },
  {
   "cell_type": "code",
   "execution_count": 114,
   "id": "ddb230ec",
   "metadata": {},
   "outputs": [],
   "source": [
    "my_list = [\"Potatoes\",\n",
    "\"Tomatoes\",\n",
    "\"Peas\",\n",
    "\"Onion\",\n",
    "\"Cauliflower\",\n",
    "\"Ladyfinger\"]"
   ]
  },
  {
   "cell_type": "code",
   "execution_count": 115,
   "id": "b04efd42",
   "metadata": {},
   "outputs": [
    {
     "data": {
      "text/plain": [
       "list"
      ]
     },
     "execution_count": 115,
     "metadata": {},
     "output_type": "execute_result"
    }
   ],
   "source": [
    "type(my_list)"
   ]
  },
  {
   "cell_type": "code",
   "execution_count": 116,
   "id": "cbe1b824",
   "metadata": {},
   "outputs": [
    {
     "data": {
      "text/plain": [
       "['Potatoes', 'Tomatoes', 'Peas', 'Onion', 'Cauliflower', 'Ladyfinger']"
      ]
     },
     "execution_count": 116,
     "metadata": {},
     "output_type": "execute_result"
    }
   ],
   "source": [
    "my_list"
   ]
  },
  {
   "cell_type": "code",
   "execution_count": 117,
   "id": "a0119403",
   "metadata": {},
   "outputs": [
    {
     "data": {
      "text/plain": [
       "'Onion'"
      ]
     },
     "execution_count": 117,
     "metadata": {},
     "output_type": "execute_result"
    }
   ],
   "source": [
    "my_list[3] # Accessing the element"
   ]
  },
  {
   "cell_type": "code",
   "execution_count": 118,
   "id": "48495309",
   "metadata": {},
   "outputs": [
    {
     "data": {
      "text/plain": [
       "['Cauliflower']"
      ]
     },
     "execution_count": 118,
     "metadata": {},
     "output_type": "execute_result"
    }
   ],
   "source": [
    "[my_list[-2]]"
   ]
  },
  {
   "cell_type": "code",
   "execution_count": 119,
   "id": "48e43fb3",
   "metadata": {},
   "outputs": [
    {
     "name": "stdout",
     "output_type": "stream",
     "text": [
      "['M', 'o', 'n', 't', 'y', ' ', 'P', 'y', 't', 'h', 'o', 'n']\n"
     ]
    }
   ],
   "source": [
    "lis = ['M','o','n','t','y',' ','P','y','t','h','o','n']\n",
    "print(lis)"
   ]
  },
  {
   "cell_type": "code",
   "execution_count": 120,
   "id": "ae006f94",
   "metadata": {},
   "outputs": [
    {
     "data": {
      "text/plain": [
       "False"
      ]
     },
     "execution_count": 120,
     "metadata": {},
     "output_type": "execute_result"
    }
   ],
   "source": [
    "lis[9] == lis[-9]"
   ]
  },
  {
   "cell_type": "code",
   "execution_count": 121,
   "id": "45b4b0e1",
   "metadata": {},
   "outputs": [
    {
     "data": {
      "text/plain": [
       "['Peas', 'Onion', 'Cauliflower']"
      ]
     },
     "execution_count": 121,
     "metadata": {},
     "output_type": "execute_result"
    }
   ],
   "source": [
    "my_list[2:5]"
   ]
  },
  {
   "cell_type": "code",
   "execution_count": 122,
   "id": "cadab3a0",
   "metadata": {},
   "outputs": [
    {
     "data": {
      "text/plain": [
       "['Peas', 'Onion', 'Cauliflower', 'Ladyfinger']"
      ]
     },
     "execution_count": 122,
     "metadata": {},
     "output_type": "execute_result"
    }
   ],
   "source": [
    "my_list[2:6]"
   ]
  },
  {
   "cell_type": "code",
   "execution_count": 123,
   "id": "507b97c0",
   "metadata": {},
   "outputs": [],
   "source": [
    "voice = \"Hello world\""
   ]
  },
  {
   "cell_type": "code",
   "execution_count": 124,
   "id": "b1dabeca",
   "metadata": {},
   "outputs": [
    {
     "data": {
      "text/plain": [
       "'Hlowr'"
      ]
     },
     "execution_count": 124,
     "metadata": {},
     "output_type": "execute_result"
    }
   ],
   "source": [
    "voice[0:9:2]"
   ]
  },
  {
   "cell_type": "code",
   "execution_count": 125,
   "id": "3428602f",
   "metadata": {},
   "outputs": [
    {
     "data": {
      "text/plain": [
       "['Potatoes', 'Tomatoes', 'Peas', 'Onion', 'Cauliflower', 'Ladyfinger']"
      ]
     },
     "execution_count": 125,
     "metadata": {},
     "output_type": "execute_result"
    }
   ],
   "source": [
    "my_list"
   ]
  },
  {
   "cell_type": "code",
   "execution_count": 126,
   "id": "40081883",
   "metadata": {},
   "outputs": [],
   "source": [
    "my_list[2] = \"Dhaniya\""
   ]
  },
  {
   "cell_type": "code",
   "execution_count": 127,
   "id": "393a4827",
   "metadata": {},
   "outputs": [
    {
     "data": {
      "text/plain": [
       "['Potatoes', 'Tomatoes', 'Dhaniya', 'Onion', 'Cauliflower', 'Ladyfinger']"
      ]
     },
     "execution_count": 127,
     "metadata": {},
     "output_type": "execute_result"
    }
   ],
   "source": [
    "my_list"
   ]
  },
  {
   "cell_type": "code",
   "execution_count": 128,
   "id": "cd95b07d",
   "metadata": {},
   "outputs": [],
   "source": [
    "my_list.append(\"Milk\") # Append function add the element\n",
    "# into the string"
   ]
  },
  {
   "cell_type": "code",
   "execution_count": 129,
   "id": "92a9e144",
   "metadata": {},
   "outputs": [
    {
     "data": {
      "text/plain": [
       "['Potatoes',\n",
       " 'Tomatoes',\n",
       " 'Dhaniya',\n",
       " 'Onion',\n",
       " 'Cauliflower',\n",
       " 'Ladyfinger',\n",
       " 'Milk']"
      ]
     },
     "execution_count": 129,
     "metadata": {},
     "output_type": "execute_result"
    }
   ],
   "source": [
    "my_list"
   ]
  },
  {
   "cell_type": "code",
   "execution_count": 130,
   "id": "8cdb3636",
   "metadata": {},
   "outputs": [],
   "source": [
    "# insert() -> Add the element into the list\n",
    "my_list.insert(1,\"Pencil\")"
   ]
  },
  {
   "cell_type": "code",
   "execution_count": 131,
   "id": "34d9cb62",
   "metadata": {},
   "outputs": [
    {
     "name": "stdout",
     "output_type": "stream",
     "text": [
      "['Potatoes', 'Pencil', 'Tomatoes', 'Dhaniya', 'Onion', 'Cauliflower', 'Ladyfinger', 'Milk']\n"
     ]
    }
   ],
   "source": [
    "print(my_list)"
   ]
  },
  {
   "cell_type": "code",
   "execution_count": 132,
   "id": "257c4aaa",
   "metadata": {},
   "outputs": [],
   "source": [
    "# Extend() -> Add the elements of two or more dic to one\n",
    "elec = [\"Laptop\",\"Speaker\",\"Microphone\"]\n",
    "games = [\"Temple Run\",\"COC\",\"COD\",\"PubG\"]\n",
    "\n",
    "elec.extend(games)"
   ]
  },
  {
   "cell_type": "code",
   "execution_count": 133,
   "id": "b629deba",
   "metadata": {},
   "outputs": [
    {
     "data": {
      "text/plain": [
       "['Laptop', 'Speaker', 'Microphone', 'Temple Run', 'COC', 'COD', 'PubG']"
      ]
     },
     "execution_count": 133,
     "metadata": {},
     "output_type": "execute_result"
    }
   ],
   "source": [
    "elec"
   ]
  },
  {
   "cell_type": "code",
   "execution_count": 134,
   "id": "089b08e3",
   "metadata": {},
   "outputs": [],
   "source": [
    "# To perform the deletion\n",
    "# remove()\n",
    "# pop\n",
    "# del"
   ]
  },
  {
   "cell_type": "code",
   "execution_count": 135,
   "id": "74ba8697",
   "metadata": {},
   "outputs": [],
   "source": [
    "elec.remove(\"Temple Run\")"
   ]
  },
  {
   "cell_type": "code",
   "execution_count": 136,
   "id": "ef8ffccb",
   "metadata": {},
   "outputs": [
    {
     "data": {
      "text/plain": [
       "['Laptop', 'Speaker', 'Microphone', 'COC', 'COD', 'PubG']"
      ]
     },
     "execution_count": 136,
     "metadata": {},
     "output_type": "execute_result"
    }
   ],
   "source": [
    "elec"
   ]
  },
  {
   "cell_type": "code",
   "execution_count": 137,
   "id": "2cc3e4d8",
   "metadata": {},
   "outputs": [
    {
     "data": {
      "text/plain": [
       "'PubG'"
      ]
     },
     "execution_count": 137,
     "metadata": {},
     "output_type": "execute_result"
    }
   ],
   "source": [
    "elec.pop(-1)"
   ]
  },
  {
   "cell_type": "code",
   "execution_count": 138,
   "id": "6336b2da",
   "metadata": {},
   "outputs": [
    {
     "data": {
      "text/plain": [
       "['Laptop', 'Speaker', 'Microphone', 'COC', 'COD']"
      ]
     },
     "execution_count": 138,
     "metadata": {},
     "output_type": "execute_result"
    }
   ],
   "source": [
    "elec"
   ]
  },
  {
   "cell_type": "code",
   "execution_count": 140,
   "id": "4a50fa06",
   "metadata": {},
   "outputs": [],
   "source": [
    "num = [1,2,3,4,5,6,7,8]"
   ]
  },
  {
   "cell_type": "code",
   "execution_count": 141,
   "id": "b5395ceb",
   "metadata": {},
   "outputs": [],
   "source": [
    "num.remove(4)"
   ]
  },
  {
   "cell_type": "code",
   "execution_count": 142,
   "id": "396b3ca2",
   "metadata": {},
   "outputs": [
    {
     "data": {
      "text/plain": [
       "[1, 2, 3, 5, 6, 7, 8]"
      ]
     },
     "execution_count": 142,
     "metadata": {},
     "output_type": "execute_result"
    }
   ],
   "source": [
    "num"
   ]
  },
  {
   "cell_type": "code",
   "execution_count": 143,
   "id": "9bb13e19",
   "metadata": {},
   "outputs": [],
   "source": [
    "listi = [[1,2,3],[4,5,6]]"
   ]
  },
  {
   "cell_type": "code",
   "execution_count": 144,
   "id": "5f140207",
   "metadata": {},
   "outputs": [
    {
     "data": {
      "text/plain": [
       "[1, 2, 3]"
      ]
     },
     "execution_count": 144,
     "metadata": {},
     "output_type": "execute_result"
    }
   ],
   "source": [
    "listi[0]"
   ]
  },
  {
   "cell_type": "code",
   "execution_count": 147,
   "id": "f9f5b1d1",
   "metadata": {},
   "outputs": [
    {
     "data": {
      "text/plain": [
       "4"
      ]
     },
     "execution_count": 147,
     "metadata": {},
     "output_type": "execute_result"
    }
   ],
   "source": [
    "listi[1][0]"
   ]
  },
  {
   "cell_type": "code",
   "execution_count": 148,
   "id": "e735e29e",
   "metadata": {},
   "outputs": [],
   "source": [
    "listi[1].remove(5)"
   ]
  },
  {
   "cell_type": "code",
   "execution_count": 149,
   "id": "4b9357e4",
   "metadata": {},
   "outputs": [
    {
     "data": {
      "text/plain": [
       "[[1, 2, 3], [4, 6]]"
      ]
     },
     "execution_count": 149,
     "metadata": {},
     "output_type": "execute_result"
    }
   ],
   "source": [
    "listi"
   ]
  },
  {
   "cell_type": "code",
   "execution_count": 150,
   "id": "824500ac",
   "metadata": {},
   "outputs": [
    {
     "data": {
      "text/plain": [
       "['Laptop', 'Speaker', 'Microphone', 'COC', 'COD']"
      ]
     },
     "execution_count": 150,
     "metadata": {},
     "output_type": "execute_result"
    }
   ],
   "source": [
    "# del means delete -> Just give me the index\n",
    "elec"
   ]
  },
  {
   "cell_type": "code",
   "execution_count": 151,
   "id": "83dc972e",
   "metadata": {},
   "outputs": [],
   "source": [
    "del elec[2]"
   ]
  },
  {
   "cell_type": "code",
   "execution_count": 152,
   "id": "6ce7ab5c",
   "metadata": {},
   "outputs": [
    {
     "data": {
      "text/plain": [
       "['Laptop', 'Speaker', 'COC', 'COD']"
      ]
     },
     "execution_count": 152,
     "metadata": {},
     "output_type": "execute_result"
    }
   ],
   "source": [
    "elec"
   ]
  },
  {
   "cell_type": "code",
   "execution_count": 153,
   "id": "51c56ec7",
   "metadata": {},
   "outputs": [],
   "source": [
    "grades = [38 , 44 , 78 , 37 , 12 , 67 , 9 , 34 , 76 , 23]"
   ]
  },
  {
   "cell_type": "code",
   "execution_count": 154,
   "id": "29e4f146",
   "metadata": {},
   "outputs": [
    {
     "data": {
      "text/plain": [
       "[38, 44, 78, 37, 12, 67, 9, 34, 76, 23]"
      ]
     },
     "execution_count": 154,
     "metadata": {},
     "output_type": "execute_result"
    }
   ],
   "source": [
    "grades"
   ]
  },
  {
   "cell_type": "code",
   "execution_count": 155,
   "id": "f4a5e34f",
   "metadata": {},
   "outputs": [
    {
     "data": {
      "text/plain": [
       "10"
      ]
     },
     "execution_count": 155,
     "metadata": {},
     "output_type": "execute_result"
    }
   ],
   "source": [
    "len(grades)"
   ]
  },
  {
   "cell_type": "code",
   "execution_count": 156,
   "id": "6c04aa58",
   "metadata": {},
   "outputs": [
    {
     "data": {
      "text/plain": [
       "78"
      ]
     },
     "execution_count": 156,
     "metadata": {},
     "output_type": "execute_result"
    }
   ],
   "source": [
    "max(grades)"
   ]
  },
  {
   "cell_type": "code",
   "execution_count": 157,
   "id": "b0771be5",
   "metadata": {},
   "outputs": [
    {
     "data": {
      "text/plain": [
       "9"
      ]
     },
     "execution_count": 157,
     "metadata": {},
     "output_type": "execute_result"
    }
   ],
   "source": [
    "min(grades)"
   ]
  },
  {
   "cell_type": "code",
   "execution_count": 161,
   "id": "2c001fa3",
   "metadata": {},
   "outputs": [],
   "source": [
    "alpha = [\"Hello\" , \"World\" , \"Cat\"] #Assci value"
   ]
  },
  {
   "cell_type": "code",
   "execution_count": 162,
   "id": "caa0e23f",
   "metadata": {},
   "outputs": [
    {
     "data": {
      "text/plain": [
       "'World'"
      ]
     },
     "execution_count": 162,
     "metadata": {},
     "output_type": "execute_result"
    }
   ],
   "source": [
    "max(alpha)"
   ]
  },
  {
   "cell_type": "code",
   "execution_count": 163,
   "id": "f19972be",
   "metadata": {},
   "outputs": [
    {
     "data": {
      "text/plain": [
       "'Cat'"
      ]
     },
     "execution_count": 163,
     "metadata": {},
     "output_type": "execute_result"
    }
   ],
   "source": [
    "min(alpha)"
   ]
  },
  {
   "cell_type": "code",
   "execution_count": 165,
   "id": "fbf0de6c",
   "metadata": {},
   "outputs": [
    {
     "data": {
      "text/plain": [
       "[38, 44, 78, 37, 12, 67, 9, 34, 76, 23]"
      ]
     },
     "execution_count": 165,
     "metadata": {},
     "output_type": "execute_result"
    }
   ],
   "source": [
    "# Sorting\n",
    "grades"
   ]
  },
  {
   "cell_type": "code",
   "execution_count": 168,
   "id": "c8e044d9",
   "metadata": {},
   "outputs": [],
   "source": [
    "grades.sort(reverse=True)"
   ]
  },
  {
   "cell_type": "code",
   "execution_count": 169,
   "id": "f2442b34",
   "metadata": {},
   "outputs": [
    {
     "data": {
      "text/plain": [
       "[78, 76, 67, 44, 38, 37, 34, 23, 12, 9]"
      ]
     },
     "execution_count": 169,
     "metadata": {},
     "output_type": "execute_result"
    }
   ],
   "source": [
    "grades"
   ]
  },
  {
   "cell_type": "code",
   "execution_count": 170,
   "id": "f9f44c6b",
   "metadata": {},
   "outputs": [],
   "source": [
    "testing = [1,5,4,20,4,77,85,48,84,94,49]"
   ]
  },
  {
   "cell_type": "code",
   "execution_count": 171,
   "id": "08ee1f1e",
   "metadata": {},
   "outputs": [
    {
     "name": "stdout",
     "output_type": "stream",
     "text": [
      "[1, 5, 4, 20, 4, 77, 85, 48, 84, 94, 49]\n"
     ]
    }
   ],
   "source": [
    "print(testing)"
   ]
  },
  {
   "cell_type": "code",
   "execution_count": 172,
   "id": "7ac7361b",
   "metadata": {},
   "outputs": [],
   "source": [
    "testing.sort()"
   ]
  },
  {
   "cell_type": "code",
   "execution_count": 173,
   "id": "a2dd3a86",
   "metadata": {},
   "outputs": [
    {
     "name": "stdout",
     "output_type": "stream",
     "text": [
      "[1, 4, 4, 5, 20, 48, 49, 77, 84, 85, 94]\n"
     ]
    }
   ],
   "source": [
    "print(testing)"
   ]
  },
  {
   "cell_type": "code",
   "execution_count": 174,
   "id": "18b2a7d1",
   "metadata": {},
   "outputs": [],
   "source": [
    "testing.reverse()"
   ]
  },
  {
   "cell_type": "code",
   "execution_count": 175,
   "id": "17e83b61",
   "metadata": {},
   "outputs": [
    {
     "name": "stdout",
     "output_type": "stream",
     "text": [
      "[94, 85, 84, 77, 49, 48, 20, 5, 4, 4, 1]\n"
     ]
    }
   ],
   "source": [
    "print(testing)"
   ]
  }
 ],
 "metadata": {
  "kernelspec": {
   "display_name": "Python 3 (ipykernel)",
   "language": "python",
   "name": "python3"
  },
  "language_info": {
   "codemirror_mode": {
    "name": "ipython",
    "version": 3
   },
   "file_extension": ".py",
   "mimetype": "text/x-python",
   "name": "python",
   "nbconvert_exporter": "python",
   "pygments_lexer": "ipython3",
   "version": "3.10.8"
  }
 },
 "nbformat": 4,
 "nbformat_minor": 5
}
