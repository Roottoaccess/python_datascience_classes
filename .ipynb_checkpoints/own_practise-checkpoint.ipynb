{
 "cells": [
  {
   "cell_type": "code",
   "execution_count": 16,
   "id": "0a451792",
   "metadata": {},
   "outputs": [],
   "source": [
    "# String and its basic functions :-\n",
    "string = \"This is a string\""
   ]
  },
  {
   "cell_type": "code",
   "execution_count": 17,
   "id": "051f8c79",
   "metadata": {},
   "outputs": [
    {
     "name": "stdout",
     "output_type": "stream",
     "text": [
      "This is a string\n"
     ]
    }
   ],
   "source": [
    "print(string)"
   ]
  },
  {
   "cell_type": "code",
   "execution_count": 18,
   "id": "95c29dd7",
   "metadata": {},
   "outputs": [
    {
     "data": {
      "text/plain": [
       "str"
      ]
     },
     "execution_count": 18,
     "metadata": {},
     "output_type": "execute_result"
    }
   ],
   "source": [
    "type(string)"
   ]
  },
  {
   "cell_type": "code",
   "execution_count": 19,
   "id": "d92b07c7",
   "metadata": {},
   "outputs": [],
   "source": [
    "string1 = \"This is an another string\""
   ]
  },
  {
   "cell_type": "code",
   "execution_count": 20,
   "id": "33502880",
   "metadata": {},
   "outputs": [
    {
     "name": "stdout",
     "output_type": "stream",
     "text": [
      "This is an another string\n"
     ]
    }
   ],
   "source": [
    "print(string1)"
   ]
  },
  {
   "cell_type": "code",
   "execution_count": 21,
   "id": "416acc7d",
   "metadata": {},
   "outputs": [],
   "source": [
    "# Joining the two strings together\n",
    "joining_string = string + \" \" + string1"
   ]
  },
  {
   "cell_type": "code",
   "execution_count": 22,
   "id": "6531b515",
   "metadata": {},
   "outputs": [
    {
     "name": "stdout",
     "output_type": "stream",
     "text": [
      "This is a string This is an another string\n"
     ]
    }
   ],
   "source": [
    "print(joining_string)"
   ]
  },
  {
   "cell_type": "code",
   "execution_count": 23,
   "id": "b48797b9",
   "metadata": {},
   "outputs": [
    {
     "name": "stdout",
     "output_type": "stream",
     "text": [
      "The length of the string is: 16\n"
     ]
    }
   ],
   "source": [
    "# Finding the length of the string\n",
    "print(\"The length of the string is:\", len(string))"
   ]
  },
  {
   "cell_type": "code",
   "execution_count": 25,
   "id": "b03e528e",
   "metadata": {},
   "outputs": [
    {
     "name": "stdout",
     "output_type": "stream",
     "text": [
      "After capitalizing the string: Hello world\n"
     ]
    }
   ],
   "source": [
    "# Capitalizing the string\n",
    "cap_string = \"hello world\"\n",
    "print(\"After capitalizing the string:\", cap_string.capitalize())"
   ]
  },
  {
   "cell_type": "code",
   "execution_count": 32,
   "id": "1bb22ce7",
   "metadata": {},
   "outputs": [],
   "source": [
    "# startswith will return a binary value if the condition is true or false\n",
    "# Remember python is case sensitive \n",
    "proving_string = \"Today is Monday\""
   ]
  },
  {
   "cell_type": "code",
   "execution_count": 33,
   "id": "6ff41235",
   "metadata": {},
   "outputs": [
    {
     "name": "stdout",
     "output_type": "stream",
     "text": [
      "Result: True\n"
     ]
    }
   ],
   "source": [
    "print(\"Result:\", proving_string.startswith('T'))"
   ]
  },
  {
   "cell_type": "code",
   "execution_count": 36,
   "id": "5b5d9560",
   "metadata": {},
   "outputs": [
    {
     "name": "stdout",
     "output_type": "stream",
     "text": [
      "Result: False\n"
     ]
    }
   ],
   "source": [
    "# Endswith will also return a binary value if the condition is true or false\n",
    "print(\"Result:\", proving_string.endswith('a'))"
   ]
  },
  {
   "cell_type": "code",
   "execution_count": 37,
   "id": "0ff22814",
   "metadata": {},
   "outputs": [
    {
     "name": "stdout",
     "output_type": "stream",
     "text": [
      "The character counted: 2\n"
     ]
    }
   ],
   "source": [
    "# String count function will return you the charecter and its occurence wile counting it\n",
    "print(\"The character counted:\", proving_string.count('o'))"
   ]
  },
  {
   "cell_type": "code",
   "execution_count": 39,
   "id": "1ac635ad",
   "metadata": {},
   "outputs": [
    {
     "data": {
      "text/plain": [
       "'******Today is Monday*******'"
      ]
     },
     "execution_count": 39,
     "metadata": {},
     "output_type": "execute_result"
    }
   ],
   "source": [
    "# center will make the string in center position as your entered limit\n",
    "proving_string.center(28,'*')"
   ]
  },
  {
   "cell_type": "code",
   "execution_count": 40,
   "id": "6eab777f",
   "metadata": {},
   "outputs": [
    {
     "name": "stdout",
     "output_type": "stream",
     "text": [
      "Enter the first number: 18\n",
      "Enter the second number: 84\n",
      "The result is: 120\n"
     ]
    }
   ],
   "source": [
    "# Taking two numbers from the users and performing the following operations '(a+b)-(-a)'\n",
    "first_number = int(input(\"Enter the first number: \"))\n",
    "second_number = int(input(\"Enter the second number: \"))\n",
    "\n",
    "operation = (first_number + second_number)-(-(first_number))\n",
    "# Printing the number\n",
    "print(\"The result is:\", operation)"
   ]
  },
  {
   "cell_type": "code",
   "execution_count": 45,
   "id": "4280c187",
   "metadata": {},
   "outputs": [
    {
     "name": "stdout",
     "output_type": "stream",
     "text": [
      "Snake_caseSnake_caseSnake_caseSnake_caseSnake_caseSnake_caseSnake_caseSnake_caseSnake_case\n"
     ]
    }
   ],
   "source": [
    "stri = \"Snake_case\"\n",
    "print(stri*9)"
   ]
  },
  {
   "cell_type": "code",
   "execution_count": 46,
   "id": "6c424b6d",
   "metadata": {},
   "outputs": [],
   "source": [
    "# Slicing is the technique where we can fetch a perticular area from the entire string\n",
    "figure_out = \"Here is the demo string you can figure out with\""
   ]
  },
  {
   "cell_type": "code",
   "execution_count": 50,
   "id": "34f366b6",
   "metadata": {},
   "outputs": [],
   "source": [
    "slicing = figure_out[2:14]"
   ]
  },
  {
   "cell_type": "code",
   "execution_count": 51,
   "id": "2c619ae2",
   "metadata": {},
   "outputs": [
    {
     "name": "stdout",
     "output_type": "stream",
     "text": [
      "re is the de\n"
     ]
    }
   ],
   "source": [
    "print(slicing)"
   ]
  },
  {
   "cell_type": "code",
   "execution_count": 52,
   "id": "42c5b605",
   "metadata": {},
   "outputs": [],
   "source": [
    "# String replace function will take a existing string and replace with the given new string\n",
    "email = \"DEAR PROFESSOR,............\"\n",
    "# Now here we have a string and if we want to change the capital PROFESSOR to lower case we need to use replace"
   ]
  },
  {
   "cell_type": "code",
   "execution_count": 53,
   "id": "47f0266b",
   "metadata": {},
   "outputs": [],
   "source": [
    "replaced = email.replace(\"PROFESSOR\",\"professor\")"
   ]
  },
  {
   "cell_type": "code",
   "execution_count": 54,
   "id": "392b38b0",
   "metadata": {},
   "outputs": [
    {
     "name": "stdout",
     "output_type": "stream",
     "text": [
      "DEAR professor,............\n"
     ]
    }
   ],
   "source": [
    "print(replaced)"
   ]
  },
  {
   "cell_type": "code",
   "execution_count": 55,
   "id": "de9c7930",
   "metadata": {},
   "outputs": [],
   "source": [
    "# Similarly there is upper and lower functions also\n",
    "demo_string = \"Python is a danger programming language and it is really awsome to know\""
   ]
  },
  {
   "cell_type": "code",
   "execution_count": 56,
   "id": "9ce91347",
   "metadata": {},
   "outputs": [
    {
     "name": "stdout",
     "output_type": "stream",
     "text": [
      "python is a danger programming language and it is really awsome to know\n"
     ]
    }
   ],
   "source": [
    "lower_string = demo_string.lower()\n",
    "print(lower_string)"
   ]
  },
  {
   "cell_type": "code",
   "execution_count": 57,
   "id": "46649c84",
   "metadata": {},
   "outputs": [
    {
     "name": "stdout",
     "output_type": "stream",
     "text": [
      "PYTHON IS A DANGER PROGRAMMING LANGUAGE AND IT IS REALLY AWSOME TO KNOW\n"
     ]
    }
   ],
   "source": [
    "upper_string = demo_string.upper()\n",
    "print(upper_string)"
   ]
  },
  {
   "cell_type": "code",
   "execution_count": 58,
   "id": "d218b3a9",
   "metadata": {},
   "outputs": [
    {
     "name": "stdout",
     "output_type": "stream",
     "text": [
      "Enter the first number: 12\n",
      "Enter the second number: 12\n",
      "The result is:  24\n"
     ]
    }
   ],
   "source": [
    "# Type convertion is a technique to convert a datatype into some other datatype\n",
    "# Taking two numbers as a string and adding the both numbers and returning the result in string again\n",
    "num_one = input(\"Enter the first number: \")\n",
    "num_two = input(\"Enter the second number: \")\n",
    "\n",
    "# Converting the type to integer\n",
    "num_one = int(num_one)\n",
    "num_two = int(num_two)\n",
    "\n",
    "# Operation\n",
    "adding_nums = num_one + num_two\n",
    "\n",
    "# Converting this again in string\n",
    "adding_nums = str(adding_nums)\n",
    "\n",
    "# Printing the results\n",
    "print(\"The result is: \",adding_nums)"
   ]
  },
  {
   "cell_type": "code",
   "execution_count": 60,
   "id": "327e8cc5",
   "metadata": {},
   "outputs": [
    {
     "data": {
      "text/plain": [
       "str"
      ]
     },
     "execution_count": 60,
     "metadata": {},
     "output_type": "execute_result"
    }
   ],
   "source": [
    "type(adding_nums)"
   ]
  },
  {
   "cell_type": "code",
   "execution_count": 63,
   "id": "f6992be3",
   "metadata": {},
   "outputs": [],
   "source": [
    "# Lists and its function\n",
    "# CRUD operations which means create , read , update , delete operations\n",
    "# Creating a list :-\n",
    "my_list = [\"books\",\n",
    "           \"cars\",\n",
    "           \"computer\",\n",
    "           \"cricket\",\n",
    "           \"movies\"\n",
    "          ]"
   ]
  },
  {
   "cell_type": "code",
   "execution_count": 65,
   "id": "d8ab61c2",
   "metadata": {},
   "outputs": [
    {
     "name": "stdout",
     "output_type": "stream",
     "text": [
      "['books', 'cars', 'computer', 'cricket', 'movies']\n"
     ]
    }
   ],
   "source": [
    "# Reading the list\n",
    "print(my_list)"
   ]
  },
  {
   "cell_type": "code",
   "execution_count": 66,
   "id": "f34f0854",
   "metadata": {},
   "outputs": [
    {
     "data": {
      "text/plain": [
       "list"
      ]
     },
     "execution_count": 66,
     "metadata": {},
     "output_type": "execute_result"
    }
   ],
   "source": [
    "type(my_list)"
   ]
  },
  {
   "cell_type": "code",
   "execution_count": 67,
   "id": "a2584a61",
   "metadata": {},
   "outputs": [
    {
     "data": {
      "text/plain": [
       "'computer'"
      ]
     },
     "execution_count": 67,
     "metadata": {},
     "output_type": "execute_result"
    }
   ],
   "source": [
    "# We can access the list's elements by calling the index numbers\n",
    "my_list[2]"
   ]
  },
  {
   "cell_type": "code",
   "execution_count": 68,
   "id": "d6871337",
   "metadata": {},
   "outputs": [
    {
     "data": {
      "text/plain": [
       "'movies'"
      ]
     },
     "execution_count": 68,
     "metadata": {},
     "output_type": "execute_result"
    }
   ],
   "source": [
    "# Python has a superb feature of negative indexing\n",
    "my_list[-1]"
   ]
  },
  {
   "cell_type": "code",
   "execution_count": 69,
   "id": "b2cd8102",
   "metadata": {},
   "outputs": [],
   "source": [
    "# If I have a list inside a list basically nested list how can we access the data lets see\n",
    "nested_list = [[1,2,3,4],[5,6,7,8]]"
   ]
  },
  {
   "cell_type": "code",
   "execution_count": 70,
   "id": "8e701bdf",
   "metadata": {},
   "outputs": [
    {
     "data": {
      "text/plain": [
       "[5, 6, 7, 8]"
      ]
     },
     "execution_count": 70,
     "metadata": {},
     "output_type": "execute_result"
    }
   ],
   "source": [
    "# So I have a nested list now we will try to access the data 6 so firstly what we have to do ?\n",
    "nested_list[1]"
   ]
  },
  {
   "cell_type": "code",
   "execution_count": 71,
   "id": "26006e61",
   "metadata": {},
   "outputs": [
    {
     "name": "stdout",
     "output_type": "stream",
     "text": [
      "6\n"
     ]
    }
   ],
   "source": [
    "# So nested_list[1] helps us to access the 1th index list and now we will give the index number of 6\n",
    "print(nested_list[1][1])"
   ]
  },
  {
   "cell_type": "code",
   "execution_count": 72,
   "id": "3edf9e9b",
   "metadata": {},
   "outputs": [
    {
     "data": {
      "text/plain": [
       "['books', 'cars', 'computer', 'cricket', 'movies']"
      ]
     },
     "execution_count": 72,
     "metadata": {},
     "output_type": "execute_result"
    }
   ],
   "source": [
    "my_list"
   ]
  },
  {
   "cell_type": "code",
   "execution_count": 74,
   "id": "26eb135e",
   "metadata": {},
   "outputs": [
    {
     "data": {
      "text/plain": [
       "['computer', 'cricket', 'movies']"
      ]
     },
     "execution_count": 74,
     "metadata": {},
     "output_type": "execute_result"
    }
   ],
   "source": [
    "# List also support slicing the data\n",
    "my_list[2:5]"
   ]
  },
  {
   "cell_type": "code",
   "execution_count": 75,
   "id": "fb91ee76",
   "metadata": {},
   "outputs": [
    {
     "data": {
      "text/plain": [
       "['books', 'cars', 'computer', 'cricket', 'movies']"
      ]
     },
     "execution_count": 75,
     "metadata": {},
     "output_type": "execute_result"
    }
   ],
   "source": [
    "my_list"
   ]
  },
  {
   "cell_type": "code",
   "execution_count": 77,
   "id": "8a335262",
   "metadata": {},
   "outputs": [],
   "source": [
    "# Now if we want to insert a new element into the list we will do\n",
    "my_list[2] = \"Hrithik\""
   ]
  },
  {
   "cell_type": "code",
   "execution_count": 78,
   "id": "6f0c33e9",
   "metadata": {},
   "outputs": [
    {
     "data": {
      "text/plain": [
       "['books', 'cars', 'Hrithik', 'cricket', 'movies']"
      ]
     },
     "execution_count": 78,
     "metadata": {},
     "output_type": "execute_result"
    }
   ],
   "source": [
    "my_list"
   ]
  },
  {
   "cell_type": "code",
   "execution_count": 79,
   "id": "3c41fe19",
   "metadata": {},
   "outputs": [],
   "source": [
    "# Append function is also applied in list\n",
    "my_list.append(\"bikes\")"
   ]
  },
  {
   "cell_type": "code",
   "execution_count": 80,
   "id": "0ea20641",
   "metadata": {},
   "outputs": [
    {
     "data": {
      "text/plain": [
       "['books', 'cars', 'Hrithik', 'cricket', 'movies', 'bikes']"
      ]
     },
     "execution_count": 80,
     "metadata": {},
     "output_type": "execute_result"
    }
   ],
   "source": [
    "my_list"
   ]
  },
  {
   "cell_type": "code",
   "execution_count": 81,
   "id": "6433b9c6",
   "metadata": {},
   "outputs": [],
   "source": [
    "# Now we have the insert function which helps to insert the value in anywhere of the list\n",
    "my_list.insert(3,\"speaker\")"
   ]
  },
  {
   "cell_type": "code",
   "execution_count": 82,
   "id": "74155572",
   "metadata": {},
   "outputs": [
    {
     "data": {
      "text/plain": [
       "['books', 'cars', 'Hrithik', 'speaker', 'cricket', 'movies', 'bikes']"
      ]
     },
     "execution_count": 82,
     "metadata": {},
     "output_type": "execute_result"
    }
   ],
   "source": [
    "my_list"
   ]
  },
  {
   "cell_type": "code",
   "execution_count": 83,
   "id": "3a74789d",
   "metadata": {},
   "outputs": [],
   "source": [
    "# Extends is use for joining or merging the two list together\n",
    "list_one = [\"This\",\"is\",\"a\",\"list\"]\n",
    "list_two = [\"This\",\"is\",\"another\",\"list\"]"
   ]
  },
  {
   "cell_type": "code",
   "execution_count": 86,
   "id": "6cd1bd5b",
   "metadata": {},
   "outputs": [],
   "source": [
    "list_one.extend(list_two)"
   ]
  },
  {
   "cell_type": "code",
   "execution_count": 87,
   "id": "488cb2cb",
   "metadata": {},
   "outputs": [
    {
     "data": {
      "text/plain": [
       "['This', 'is', 'another', 'list']"
      ]
     },
     "execution_count": 87,
     "metadata": {},
     "output_type": "execute_result"
    }
   ],
   "source": [
    "list_two"
   ]
  },
  {
   "cell_type": "code",
   "execution_count": 89,
   "id": "f21f5c26",
   "metadata": {},
   "outputs": [
    {
     "data": {
      "text/plain": [
       "['This', 'is', 'a', 'list', 'This', 'is', 'another', 'list']"
      ]
     },
     "execution_count": 89,
     "metadata": {},
     "output_type": "execute_result"
    }
   ],
   "source": [
    "list_one # So we can see that the two list combined together"
   ]
  },
  {
   "cell_type": "code",
   "execution_count": null,
   "id": "1065f2dd",
   "metadata": {},
   "outputs": [],
   "source": []
  }
 ],
 "metadata": {
  "kernelspec": {
   "display_name": "Python 3 (ipykernel)",
   "language": "python",
   "name": "python3"
  },
  "language_info": {
   "codemirror_mode": {
    "name": "ipython",
    "version": 3
   },
   "file_extension": ".py",
   "mimetype": "text/x-python",
   "name": "python",
   "nbconvert_exporter": "python",
   "pygments_lexer": "ipython3",
   "version": "3.10.8"
  }
 },
 "nbformat": 4,
 "nbformat_minor": 5
}
