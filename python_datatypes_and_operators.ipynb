{
 "cells": [
  {
   "cell_type": "code",
   "execution_count": 3,
   "id": "26583445",
   "metadata": {},
   "outputs": [
    {
     "name": "stdout",
     "output_type": "stream",
     "text": [
      "Hello World\n"
     ]
    }
   ],
   "source": [
    "print(\"Hello World\")"
   ]
  },
  {
   "cell_type": "code",
   "execution_count": 7,
   "id": "20f8dada",
   "metadata": {},
   "outputs": [
    {
     "name": "stdout",
     "output_type": "stream",
     "text": [
      "Enter the width: 4\n",
      "Enter the heigth: 11\n",
      "The area of first room is:  44\n",
      "Enter the width: 5\n",
      "Enter the heigth: 9\n",
      "The area of second room is:  45\n",
      "The total area is: 89\n",
      "The tiles are needed:  89\n",
      "Enter the number of packages: 17\n",
      "Enter the number of tiles present in each packages: 6\n",
      "The total number of tiles are:  102\n",
      "The tiles are left over:  13\n"
     ]
    }
   ],
   "source": [
    "# Solving another problem and finding How many tiles are needed and how many are left ?\n",
    "# firstly we need to calculate the areas of two rooms \n",
    "# first room area:- \n",
    "first_width = int(input(\"Enter the width: \"))\n",
    "first_height = int(input(\"Enter the heigth: \"))\n",
    "cal_first_area = first_width * first_height\n",
    "print(\"The area of first room is: \",cal_first_area)\n",
    "\n",
    "# second room area:-\n",
    "second_width = int(input(\"Enter the width: \"))\n",
    "second_heigth = int(input(\"Enter the heigth: \"))\n",
    "cal_second_area = second_width * second_heigth\n",
    "print(\"The area of second room is: \",cal_second_area)\n",
    "\n",
    "# Now let's calculate the total area:-\n",
    "total_area = cal_first_area + cal_second_area\n",
    "print(\"The total area is:\", total_area)\n",
    "\n",
    "# As in the question given each tiles is 1ft*1ft so \n",
    "# we can consider that it is of 1 sqft\n",
    "# So the total number of tiles needed is equals to the \n",
    "# total area of the two rooms\n",
    "print(\"The tiles are needed: \",total_area)\n",
    "\n",
    "# Now we will solve the second problem :-\n",
    "# As we know that we bought 17 packages each containes 6 tiles\n",
    "# So the total number of tiles are :- \n",
    "number_of_packages = int(input(\"Enter the number of packages: \"))\n",
    "number_of_tiles = int(input(\"Enter the number of tiles present in each packages: \"))\n",
    "\n",
    "total_no_tiles = number_of_packages * number_of_tiles\n",
    "print(\"The total number of tiles are: \",total_no_tiles)\n",
    "\n",
    "# So now if we need to find the number of tiles left:-\n",
    "total_no_tiles_left = total_no_tiles - total_area\n",
    "print(\"The tiles are left over: \",total_no_tiles_left)"
   ]
  },
  {
   "cell_type": "code",
   "execution_count": 8,
   "id": "92100af1",
   "metadata": {},
   "outputs": [],
   "source": [
    "# Creating a variable named rent \n",
    "rent = 1700"
   ]
  },
  {
   "cell_type": "code",
   "execution_count": 9,
   "id": "ea5cad5c",
   "metadata": {},
   "outputs": [
    {
     "name": "stdout",
     "output_type": "stream",
     "text": [
      "12\n"
     ]
    }
   ],
   "source": [
    "# Assigning variable\n",
    "a = 12\n",
    "b = a\n",
    "print(b)"
   ]
  },
  {
   "cell_type": "code",
   "execution_count": 14,
   "id": "46d1d4e8",
   "metadata": {},
   "outputs": [],
   "source": [
    "# Importing math function for using the sqrt function\n",
    "import math"
   ]
  },
  {
   "cell_type": "code",
   "execution_count": 15,
   "id": "69824314",
   "metadata": {},
   "outputs": [
    {
     "name": "stdout",
     "output_type": "stream",
     "text": [
      "Enter the first value: 4\n",
      "Enter the second value: 5\n",
      "Enter the third value: 6\n",
      "8.774964387392123\n"
     ]
    }
   ],
   "source": [
    "# Finding the length of the vector with the starting coordinates and the ending coordinates\n",
    "first_coordinate = int(input(\"Enter the first value: \"))\n",
    "second_coordinate = int(input(\"Enter the second value: \"))\n",
    "third_coordinate = int(input(\"Enter the third value: \"))\n",
    "\n",
    "length = math.sqrt(first_coordinate**2 + second_coordinate**2 + third_coordinate**2)\n",
    "print(length)"
   ]
  },
  {
   "cell_type": "code",
   "execution_count": 16,
   "id": "f4d444c0",
   "metadata": {},
   "outputs": [
    {
     "name": "stdout",
     "output_type": "stream",
     "text": [
      "2700\n"
     ]
    }
   ],
   "source": [
    "rent = 1700\n",
    "rent = 2000\n",
    "result = rent + 700\n",
    "print(result)"
   ]
  },
  {
   "cell_type": "code",
   "execution_count": 24,
   "id": "fc11066a",
   "metadata": {},
   "outputs": [
    {
     "name": "stdout",
     "output_type": "stream",
     "text": [
      "The total amount you have in your bank is: 1200000.0\n",
      "The money receive you get after one year: 9300000.0\n",
      "After deducting the 30% from the salary:  6510000.0\n",
      "After adding the salary to the bank account the amount is:  7710000.0\n",
      "After adding the 4% interest received from the bank: 8018400.0\n",
      "120000.0\n",
      "The amount after left in the bank account after paying the rent: 7898400.0\n"
     ]
    }
   ],
   "source": [
    "# Managing my finances using python:\n",
    "# The amount of money in your bank account is:-\n",
    "amt = 1.2e6\n",
    "# money recieved every year in form of salary\n",
    "salary = 9.3e5\n",
    "\n",
    "# Converting the total amount and the money received\n",
    "amt = 1.2 * 10 ** 6\n",
    "print(\"The total amount you have in your bank is:\", amt)\n",
    "\n",
    "salary = 9.3 * 10 ** 6\n",
    "print(\"The money receive you get after one year:\", salary)\n",
    "\n",
    "# After tax paid to the government \n",
    "after_tax = (salary * 30) / 100\n",
    "salary = salary - after_tax\n",
    "print(\"After deducting the 30% from the salary: \",salary)\n",
    "\n",
    "# Adding the salary to the bank account\n",
    "amt = amt + salary\n",
    "print(\"After adding the salary to the bank account the amount is: \",amt)\n",
    "\n",
    "# Incresing the anount by 4% that I received from the bank interest\n",
    "bank_interest = (amt * 4) / 100\n",
    "amt = bank_interest + amt\n",
    "print(\"After adding the 4% interest received from the bank:\", amt)\n",
    "\n",
    "# Rent amount has to substract from the bank amount :- \n",
    "personal_rent = 1.2e5\n",
    "# Converting ....\n",
    "personal_rent = 1.2 * 10 ** 5\n",
    "print(personal_rent)\n",
    "# Taking off the value from the account\n",
    "amt = amt - personal_rent\n",
    "print(\"The amount after left in the bank account after paying the rent:\", amt)"
   ]
  },
  {
   "cell_type": "code",
   "execution_count": 26,
   "id": "46e333f6",
   "metadata": {},
   "outputs": [
    {
     "name": "stdout",
     "output_type": "stream",
     "text": [
      "<class 'int'>\n",
      "<class 'float'>\n"
     ]
    }
   ],
   "source": [
    "# Integers and float\n",
    "a = 54\n",
    "b = 54.12\n",
    "print(type(a))\n",
    "print(type(b))"
   ]
  },
  {
   "cell_type": "code",
   "execution_count": 29,
   "id": "78015c22",
   "metadata": {},
   "outputs": [
    {
     "name": "stdout",
     "output_type": "stream",
     "text": [
      "Enter the int number: 12\n",
      "The result will be in float: 12.0\n"
     ]
    }
   ],
   "source": [
    "# Converting a integer into float\n",
    "i = int(input(\"Enter the int number: \"))\n",
    "print(\"The result will be in float:\", float(i))"
   ]
  },
  {
   "cell_type": "code",
   "execution_count": 31,
   "id": "de41eebe",
   "metadata": {},
   "outputs": [
    {
     "name": "stdout",
     "output_type": "stream",
     "text": [
      "6.900000000000006\n"
     ]
    },
    {
     "data": {
      "text/plain": [
       "False"
      ]
     },
     "execution_count": 31,
     "metadata": {},
     "output_type": "execute_result"
    }
   ],
   "source": [
    "h = print(0.23 + 0.23 + 0.23 + 0.23 + 0.23 + 0.23 + 0.23 + 0.23 + 0.23 + 0.23 + 0.23 + 0.23 + 0.23 + 0.23 + 0.23 + 0.23 + 0.23 + 0.23 + 0.23 + 0.23 + 0.23 + 0.23 + 0.23 + 0.23 + 0.23 + 0.23 + 0.23 + 0.23 + 0.23 + 0.23)\n",
    "h == 6.9"
   ]
  },
  {
   "cell_type": "code",
   "execution_count": 33,
   "id": "1c9a33c8",
   "metadata": {},
   "outputs": [],
   "source": [
    "# What happen if you divide by o in python\n",
    "# print(4 / 0)"
   ]
  },
  {
   "cell_type": "code",
   "execution_count": 55,
   "id": "c672103d",
   "metadata": {},
   "outputs": [
    {
     "name": "stdout",
     "output_type": "stream",
     "text": [
      "False\n"
     ]
    }
   ],
   "source": [
    "# Is mumbai more dense than Delhi ?\n",
    "mum_population , mum_area = 20411000, 4355\n",
    "del_population , del_area = 30291000, 1484\n",
    "\n",
    "mum_fancisco_pop_density = mum_population / mum_area\n",
    "del_de_janeiro_pop_density = del_population / del_area\n",
    "\n",
    "# Printing if Mumbai is denser than Delhi or not\n",
    "print(mum_fancisco_pop_density > del_de_janeiro_pop_density)"
   ]
  },
  {
   "cell_type": "code",
   "execution_count": 35,
   "id": "28625ab1",
   "metadata": {},
   "outputs": [
    {
     "name": "stdout",
     "output_type": "stream",
     "text": [
      "Learn | Code | Complete | Intern\n"
     ]
    }
   ],
   "source": [
    "# Strings\n",
    "motto = \"Learn | Code | Complete | Intern\"\n",
    "print(motto)"
   ]
  },
  {
   "cell_type": "code",
   "execution_count": 36,
   "id": "6f4ed333",
   "metadata": {},
   "outputs": [
    {
     "name": "stdout",
     "output_type": "stream",
     "text": [
      "<class 'str'>\n"
     ]
    }
   ],
   "source": [
    "# Showing the string type\n",
    "print(type(motto))"
   ]
  },
  {
   "cell_type": "code",
   "execution_count": 37,
   "id": "dcf3dde5",
   "metadata": {},
   "outputs": [
    {
     "name": "stdout",
     "output_type": "stream",
     "text": [
      "helloworld\n"
     ]
    }
   ],
   "source": [
    "# Concatenation in the strings\n",
    "print(\"hello\" + \"world\")"
   ]
  },
  {
   "cell_type": "code",
   "execution_count": 38,
   "id": "890ff0f0",
   "metadata": {},
   "outputs": [
    {
     "name": "stdout",
     "output_type": "stream",
     "text": [
      "hello world\n"
     ]
    }
   ],
   "source": [
    "print(\"hello\" + \" \" + \"world\")"
   ]
  },
  {
   "cell_type": "code",
   "execution_count": 39,
   "id": "7d66521f",
   "metadata": {},
   "outputs": [
    {
     "name": "stdout",
     "output_type": "stream",
     "text": [
      "hellohellohellohellohello\n"
     ]
    }
   ],
   "source": [
    "word = \"hello\"\n",
    "print(word * 5)"
   ]
  },
  {
   "cell_type": "code",
   "execution_count": 41,
   "id": "e01423ed",
   "metadata": {},
   "outputs": [],
   "source": [
    "# word_1 = \"hello\"\n",
    "# word_2 = \"world\"\n",
    "\n",
    "# print(word_1 / word_2)"
   ]
  },
  {
   "cell_type": "code",
   "execution_count": 42,
   "id": "a4275623",
   "metadata": {},
   "outputs": [
    {
     "name": "stdout",
     "output_type": "stream",
     "text": [
      "7\n"
     ]
    }
   ],
   "source": [
    "world_length = len(\"ShapeAI\")\n",
    "print(world_length)"
   ]
  },
  {
   "cell_type": "code",
   "execution_count": 44,
   "id": "59dfc81d",
   "metadata": {},
   "outputs": [],
   "source": [
    "# TODO: Fix this string!\n",
    "gandhi_quote = \"If you don't ask, you don't get it\""
   ]
  },
  {
   "cell_type": "code",
   "execution_count": 45,
   "id": "9b3b4c94",
   "metadata": {},
   "outputs": [
    {
     "name": "stdout",
     "output_type": "stream",
     "text": [
      "If you don't ask, you don't get it\n"
     ]
    }
   ],
   "source": [
    "print(gandhi_quote)"
   ]
  },
  {
   "cell_type": "code",
   "execution_count": 54,
   "id": "fa28ea7b",
   "metadata": {},
   "outputs": [
    {
     "name": "stdout",
     "output_type": "stream",
     "text": [
      "The full name is:  Rahul Shastri Mishra\n",
      "20\n",
      "True\n"
     ]
    }
   ],
   "source": [
    "# string concatination and length function\n",
    "given_name = \"Rahul\"\n",
    "middle_name = \"Shastri\"\n",
    "family_name = \"Mishra\"\n",
    "\n",
    "# Firstly we have to add all the three names:-\n",
    "full_name = given_name + \" \" + middle_name + \" \" + family_name\n",
    "print(\"The full name is: \",full_name)\n",
    "\n",
    "# Calculating the length of the string \n",
    "name_length = len(full_name)\n",
    "\n",
    "print(name_length)\n",
    "\n",
    "# Checking that the name will fit the driving license character limit or not\n",
    "driving_license_character_limit = 28\n",
    "print(name_length <= driving_license_character_limit)"
   ]
  },
  {
   "cell_type": "code",
   "execution_count": 56,
   "id": "120db650",
   "metadata": {},
   "outputs": [
    {
     "name": "stdout",
     "output_type": "stream",
     "text": [
      "<class 'int'>\n",
      "<class 'float'>\n",
      "<class 'str'>\n",
      "<class 'bool'>\n"
     ]
    }
   ],
   "source": [
    "# Types and Types Conversion\n",
    "print(type(75))\n",
    "print(type(74.12))\n",
    "print(type(\"75\"))\n",
    "print(type(True))"
   ]
  },
  {
   "cell_type": "code",
   "execution_count": 59,
   "id": "4e462330",
   "metadata": {},
   "outputs": [
    {
     "name": "stdout",
     "output_type": "stream",
     "text": [
      "I scored 98 in coding during my first semester .\n"
     ]
    }
   ],
   "source": [
    "marks = 98\n",
    "subject = \"coding\"\n",
    "semester = \"first\"\n",
    "\n",
    "result = \"I scored \" + str(marks) + \" in \" + subject + \" during my \" + semester + \" semester .\"\n",
    "print(result)"
   ]
  },
  {
   "cell_type": "code",
   "execution_count": 61,
   "id": "edfee7f2",
   "metadata": {},
   "outputs": [
    {
     "name": "stdout",
     "output_type": "stream",
     "text": [
      "<class 'str'>\n",
      "<class 'float'>\n"
     ]
    }
   ],
   "source": [
    "# We can also create as float from string\n",
    "marks = \"18\"\n",
    "print(type(marks))\n",
    "\n",
    "marks = float(marks)\n",
    "print(type(marks))"
   ]
  },
  {
   "cell_type": "code",
   "execution_count": 64,
   "id": "98b647a8",
   "metadata": {},
   "outputs": [
    {
     "name": "stdout",
     "output_type": "stream",
     "text": [
      "This week's total sales: 529.0\n"
     ]
    }
   ],
   "source": [
    "mon_sales = \"121\"\n",
    "tues_sales = \"105\"\n",
    "wed_sales = \"110\"\n",
    "thurs_sales = \"98\"\n",
    "fri_sales = \"95\"\n",
    "\n",
    "total_sales = (float(mon_sales) + float(tues_sales) + float(wed_sales) + float(thurs_sales) + float(fri_sales))\n",
    "print(\"This week's total sales: \" + str(total_sales))\n",
    "# print(type(total_sales))"
   ]
  },
  {
   "cell_type": "code",
   "execution_count": null,
   "id": "9e458c59",
   "metadata": {},
   "outputs": [],
   "source": []
  }
 ],
 "metadata": {
  "kernelspec": {
   "display_name": "Python 3 (ipykernel)",
   "language": "python",
   "name": "python3"
  },
  "language_info": {
   "codemirror_mode": {
    "name": "ipython",
    "version": 3
   },
   "file_extension": ".py",
   "mimetype": "text/x-python",
   "name": "python",
   "nbconvert_exporter": "python",
   "pygments_lexer": "ipython3",
   "version": "3.10.8"
  }
 },
 "nbformat": 4,
 "nbformat_minor": 5
}
