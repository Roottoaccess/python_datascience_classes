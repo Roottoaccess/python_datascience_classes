{
 "cells": [
  {
   "cell_type": "code",
   "execution_count": 7,
   "id": "3a0e60b1",
   "metadata": {},
   "outputs": [],
   "source": [
    "# Floats are an approximation to the number ther represent."
   ]
  },
  {
   "cell_type": "code",
   "execution_count": 8,
   "id": "42cf40f4",
   "metadata": {},
   "outputs": [
    {
     "name": "stdout",
     "output_type": "stream",
     "text": [
      "hello world\n"
     ]
    }
   ],
   "source": [
    "print(\"hello world\")"
   ]
  },
  {
   "cell_type": "code",
   "execution_count": 11,
   "id": "41f27668",
   "metadata": {},
   "outputs": [
    {
     "data": {
      "text/plain": [
       "2.3333333333333335"
      ]
     },
     "execution_count": 11,
     "metadata": {},
     "output_type": "execute_result"
    }
   ],
   "source": [
    "7/3"
   ]
  },
  {
   "cell_type": "code",
   "execution_count": 12,
   "id": "30f50c3c",
   "metadata": {},
   "outputs": [
    {
     "data": {
      "text/plain": [
       "0.6400000000000001"
      ]
     },
     "execution_count": 12,
     "metadata": {},
     "output_type": "execute_result"
    }
   ],
   "source": [
    "0.8 * 0.8 # The answer will be 0.6"
   ]
  },
  {
   "cell_type": "code",
   "execution_count": 14,
   "id": "46a2570f",
   "metadata": {},
   "outputs": [
    {
     "name": "stdout",
     "output_type": "stream",
     "text": [
      "True\n"
     ]
    }
   ],
   "source": [
    "print(0.23 * 30 == 6.9)"
   ]
  },
  {
   "cell_type": "code",
   "execution_count": 15,
   "id": "e8cedb37",
   "metadata": {},
   "outputs": [],
   "source": [
    "# Boolean Datatypes "
   ]
  },
  {
   "cell_type": "code",
   "execution_count": 16,
   "id": "dfc4ab47",
   "metadata": {},
   "outputs": [],
   "source": [
    "python_awsome = True\n",
    "doumentation_bad = False"
   ]
  },
  {
   "cell_type": "code",
   "execution_count": 22,
   "id": "b933a505",
   "metadata": {},
   "outputs": [
    {
     "name": "stdout",
     "output_type": "stream",
     "text": [
      "True\n"
     ]
    }
   ],
   "source": [
    "# Comparison operators \n",
    "a = 3 != 1\n",
    "print(a)"
   ]
  },
  {
   "cell_type": "code",
   "execution_count": 24,
   "id": "a1aa4b65",
   "metadata": {},
   "outputs": [
    {
     "name": "stdout",
     "output_type": "stream",
     "text": [
      "True\n"
     ]
    }
   ],
   "source": [
    "rent = 1200\n",
    "is_affordable = rent > 1000 and rent < 2000\n",
    "\n",
    "print(is_affordable)"
   ]
  },
  {
   "cell_type": "code",
   "execution_count": 25,
   "id": "0b3ed7d8",
   "metadata": {},
   "outputs": [
    {
     "name": "stdout",
     "output_type": "stream",
     "text": [
      "False\n"
     ]
    }
   ],
   "source": [
    "rent = 1200\n",
    "is_affordable = rent < 1000 and rent > 2000\n",
    "\n",
    "print(is_affordable)"
   ]
  }
 ],
 "metadata": {
  "kernelspec": {
   "display_name": "Python 3 (ipykernel)",
   "language": "python",
   "name": "python3"
  },
  "language_info": {
   "codemirror_mode": {
    "name": "ipython",
    "version": 3
   },
   "file_extension": ".py",
   "mimetype": "text/x-python",
   "name": "python",
   "nbconvert_exporter": "python",
   "pygments_lexer": "ipython3",
   "version": "3.10.8"
  }
 },
 "nbformat": 4,
 "nbformat_minor": 5
}
